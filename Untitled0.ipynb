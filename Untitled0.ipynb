{
  "nbformat": 4,
  "nbformat_minor": 0,
  "metadata": {
    "colab": {
      "name": "Untitled0.ipynb",
      "provenance": [],
      "collapsed_sections": [],
      "authorship_tag": "ABX9TyOCeBZmMAULV2lo/a/KzBdB",
      "include_colab_link": true
    },
    "kernelspec": {
      "name": "python3",
      "display_name": "Python 3"
    },
    "language_info": {
      "name": "python"
    }
  },
  "cells": [
    {
      "cell_type": "markdown",
      "metadata": {
        "id": "view-in-github",
        "colab_type": "text"
      },
      "source": [
        "<a href=\"https://colab.research.google.com/github/eduardodavi/Python_Fundamentos_/blob/main/Untitled0.ipynb\" target=\"_parent\"><img src=\"https://colab.research.google.com/assets/colab-badge.svg\" alt=\"Open In Colab\"/></a>"
      ]
    },
    {
      "cell_type": "markdown",
      "metadata": {
        "id": "YvkVL2pNW_DL"
      },
      "source": [
        "**Minha trilha de aprendizagem - Python**"
      ]
    },
    {
      "cell_type": "markdown",
      "metadata": {
        "id": "pfeFd-DFX9-z"
      },
      "source": [
        "Variáveis e Operadores"
      ]
    },
    {
      "cell_type": "code",
      "metadata": {
        "id": "8DyIp2OZW_26"
      },
      "source": [
        "#ATRIBUINDO O VALOR 2 A UMA VARIÁVEL\n",
        "var_teste = 2"
      ],
      "execution_count": null,
      "outputs": []
    },
    {
      "cell_type": "code",
      "metadata": {
        "colab": {
          "base_uri": "https://localhost:8080/"
        },
        "id": "49AN1S9zXAR1",
        "outputId": "3e08d6bb-e85a-4b40-c312-121c8f47f68a"
      },
      "source": [
        "#IMPRIMINDO O VALOR DA VARIÁVEL\n",
        "var_teste"
      ],
      "execution_count": null,
      "outputs": [
        {
          "output_type": "execute_result",
          "data": {
            "text/plain": [
              "2"
            ]
          },
          "metadata": {
            "tags": []
          },
          "execution_count": 4
        }
      ]
    },
    {
      "cell_type": "code",
      "metadata": {
        "colab": {
          "base_uri": "https://localhost:8080/"
        },
        "id": "4Q18FMUYXATE",
        "outputId": "3e55c660-d79b-4b74-bcc8-fdd7768f2a69"
      },
      "source": [
        "#OUTRA FORMA DE IMPRIMIR\n",
        "print(var_teste)"
      ],
      "execution_count": null,
      "outputs": [
        {
          "output_type": "stream",
          "text": [
            "2\n"
          ],
          "name": "stdout"
        }
      ]
    },
    {
      "cell_type": "code",
      "metadata": {
        "colab": {
          "base_uri": "https://localhost:8080/"
        },
        "id": "XHZhnZlxpFlU",
        "outputId": "ca19fcaa-5b60-48a7-f6a2-a8857d1d1274"
      },
      "source": [
        "#VERIFICANDO O TIPO DA VARIÁVEL\n",
        "type(var_teste)"
      ],
      "execution_count": null,
      "outputs": [
        {
          "output_type": "execute_result",
          "data": {
            "text/plain": [
              "int"
            ]
          },
          "metadata": {
            "tags": []
          },
          "execution_count": 6
        }
      ]
    },
    {
      "cell_type": "code",
      "metadata": {
        "id": "jF1TELS2pFnn"
      },
      "source": [
        "#DEFININDO UMA VARIÁVEL TIPO FLOAR\n",
        "var_teste1 = 9.5"
      ],
      "execution_count": null,
      "outputs": []
    },
    {
      "cell_type": "code",
      "metadata": {
        "colab": {
          "base_uri": "https://localhost:8080/"
        },
        "id": "nU6coWAjpFpZ",
        "outputId": "2c2ad56f-9b51-47d4-8ad5-ae1e9c8ae4ea"
      },
      "source": [
        "#VERIFICANDO O TIPO DA VARIÁVEL\n",
        "type(var_teste1)"
      ],
      "execution_count": null,
      "outputs": [
        {
          "output_type": "execute_result",
          "data": {
            "text/plain": [
              "float"
            ]
          },
          "metadata": {
            "tags": []
          },
          "execution_count": 8
        }
      ]
    },
    {
      "cell_type": "markdown",
      "metadata": {
        "id": "a91TiUu4qsmC"
      },
      "source": [
        "**DECLARAÇÃO MULTIPLA**"
      ]
    },
    {
      "cell_type": "code",
      "metadata": {
        "id": "mP1KGmnApFtJ"
      },
      "source": [
        "pessoa1, pessoa2, pessoa3 = \"David\", \"Eduardo\", \"Marques\""
      ],
      "execution_count": null,
      "outputs": []
    },
    {
      "cell_type": "code",
      "metadata": {
        "colab": {
          "base_uri": "https://localhost:8080/",
          "height": 35
        },
        "id": "qqM8eeEkpFvu",
        "outputId": "134bbbf2-3e5d-4a74-b38f-2d5af236c098"
      },
      "source": [
        "pessoa1"
      ],
      "execution_count": null,
      "outputs": [
        {
          "output_type": "execute_result",
          "data": {
            "application/vnd.google.colaboratory.intrinsic+json": {
              "type": "string"
            },
            "text/plain": [
              "'David'"
            ]
          },
          "metadata": {
            "tags": []
          },
          "execution_count": 10
        }
      ]
    },
    {
      "cell_type": "code",
      "metadata": {
        "colab": {
          "base_uri": "https://localhost:8080/",
          "height": 35
        },
        "id": "5rWqaPkVpFxl",
        "outputId": "14d51055-d13d-478d-e5ba-0971570e05b6"
      },
      "source": [
        "pessoa2"
      ],
      "execution_count": null,
      "outputs": [
        {
          "output_type": "execute_result",
          "data": {
            "application/vnd.google.colaboratory.intrinsic+json": {
              "type": "string"
            },
            "text/plain": [
              "'Eduardo'"
            ]
          },
          "metadata": {
            "tags": []
          },
          "execution_count": 11
        }
      ]
    },
    {
      "cell_type": "code",
      "metadata": {
        "colab": {
          "base_uri": "https://localhost:8080/",
          "height": 35
        },
        "id": "04d1MP_bpF0Q",
        "outputId": "cbaca63c-261f-40e4-ae91-7229e507608b"
      },
      "source": [
        "pessoa3"
      ],
      "execution_count": null,
      "outputs": [
        {
          "output_type": "execute_result",
          "data": {
            "application/vnd.google.colaboratory.intrinsic+json": {
              "type": "string"
            },
            "text/plain": [
              "'Marques'"
            ]
          },
          "metadata": {
            "tags": []
          },
          "execution_count": 12
        }
      ]
    },
    {
      "cell_type": "code",
      "metadata": {
        "id": "Sc07Jef0pF2i"
      },
      "source": [
        "#DECLARAÇÃO MULTIPLA COM SINAL DE ATRIBUIÇÃO\n",
        "fruta1 = fruta2 = fruta3 = \"Laranja\""
      ],
      "execution_count": null,
      "outputs": []
    },
    {
      "cell_type": "code",
      "metadata": {
        "colab": {
          "base_uri": "https://localhost:8080/",
          "height": 35
        },
        "id": "Mzu0cKEwpF5J",
        "outputId": "a95ed3eb-fcda-4d0a-8332-3f7d7a67397e"
      },
      "source": [
        "fruta1"
      ],
      "execution_count": null,
      "outputs": [
        {
          "output_type": "execute_result",
          "data": {
            "application/vnd.google.colaboratory.intrinsic+json": {
              "type": "string"
            },
            "text/plain": [
              "'Laranja'"
            ]
          },
          "metadata": {
            "tags": []
          },
          "execution_count": 14
        }
      ]
    },
    {
      "cell_type": "code",
      "metadata": {
        "colab": {
          "base_uri": "https://localhost:8080/",
          "height": 35
        },
        "id": "ZXjnW92npF7i",
        "outputId": "4621dfc1-10dd-4f7c-9319-d3aedaedb428"
      },
      "source": [
        "fruta2"
      ],
      "execution_count": null,
      "outputs": [
        {
          "output_type": "execute_result",
          "data": {
            "application/vnd.google.colaboratory.intrinsic+json": {
              "type": "string"
            },
            "text/plain": [
              "'Laranja'"
            ]
          },
          "metadata": {
            "tags": []
          },
          "execution_count": 15
        }
      ]
    },
    {
      "cell_type": "markdown",
      "metadata": {
        "id": "h0rxbmjBtNkS"
      },
      "source": [
        "NÃO SE PODE USAR PALAVRAS RESERVADAS COMO NOME DE VARIÁVEL\n",
        "\n",
        "False\n",
        "class\n",
        "finally\n",
        "is\n",
        "return\n",
        "none\n",
        "continue\n",
        "for \n",
        "lambda\n",
        "try\n",
        "True\n",
        "def\n",
        "from\n",
        "nonlocal\n",
        "while\n",
        "and\n",
        "del\n",
        "global\n",
        "not\n",
        "with\n",
        "as\n",
        "elif\n",
        "if\n",
        "or\n",
        "yield\n",
        "assert\n",
        "else\n",
        "import\n",
        "pass\n",
        "break\n",
        "except\n",
        "in\n",
        "raise"
      ]
    },
    {
      "cell_type": "markdown",
      "metadata": {
        "id": "6Kx3wqnoxVqh"
      },
      "source": [
        "**VARIÁVEIS ATRIBUÍDAS A OUTRAS VARIÁVEIS E ORDEM DOS OPERADORES**"
      ]
    },
    {
      "cell_type": "code",
      "metadata": {
        "id": "yK2GaQH-pF_r"
      },
      "source": [
        "largura = 2 "
      ],
      "execution_count": null,
      "outputs": []
    },
    {
      "cell_type": "code",
      "metadata": {
        "id": "zdI_rZuHpGEW"
      },
      "source": [
        "altura = 5"
      ],
      "execution_count": null,
      "outputs": []
    },
    {
      "cell_type": "code",
      "metadata": {
        "id": "A0IAnc-MpGKB"
      },
      "source": [
        "area = largura * altura"
      ],
      "execution_count": null,
      "outputs": []
    },
    {
      "cell_type": "code",
      "metadata": {
        "colab": {
          "base_uri": "https://localhost:8080/"
        },
        "id": "ZGjoJh00pGLZ",
        "outputId": "7690c3b5-2e84-4502-c51e-e5e48ace3b13"
      },
      "source": [
        "area"
      ],
      "execution_count": null,
      "outputs": [
        {
          "output_type": "execute_result",
          "data": {
            "text/plain": [
              "10"
            ]
          },
          "metadata": {
            "tags": []
          },
          "execution_count": 19
        }
      ]
    },
    {
      "cell_type": "code",
      "metadata": {
        "id": "b2enThn-pGM3"
      },
      "source": [
        "perimetro = 2 * largura + 2 * altura"
      ],
      "execution_count": null,
      "outputs": []
    },
    {
      "cell_type": "code",
      "metadata": {
        "colab": {
          "base_uri": "https://localhost:8080/"
        },
        "id": "UXaVLmwOpGOe",
        "outputId": "1cc36794-883d-4160-dc26-2e92beff5f83"
      },
      "source": [
        "perimetro"
      ],
      "execution_count": null,
      "outputs": [
        {
          "output_type": "execute_result",
          "data": {
            "text/plain": [
              "14"
            ]
          },
          "metadata": {
            "tags": []
          },
          "execution_count": 21
        }
      ]
    },
    {
      "cell_type": "code",
      "metadata": {
        "id": "zWD3kzblpGQl"
      },
      "source": [
        "#A ODEM DAS OPERAÇÕES DEVE SER A MESMA DA MATEMATICA\n",
        "perimetro = 2 * (largura + 2) * altura"
      ],
      "execution_count": null,
      "outputs": []
    },
    {
      "cell_type": "code",
      "metadata": {
        "colab": {
          "base_uri": "https://localhost:8080/"
        },
        "id": "QcxgW4r7pGTg",
        "outputId": "ed9179d9-4004-436f-bbef-e27ff3a5a192"
      },
      "source": [
        "perimetro"
      ],
      "execution_count": null,
      "outputs": [
        {
          "output_type": "execute_result",
          "data": {
            "text/plain": [
              "40"
            ]
          },
          "metadata": {
            "tags": []
          },
          "execution_count": 23
        }
      ]
    },
    {
      "cell_type": "markdown",
      "metadata": {
        "id": "2a_7PLmpy20h"
      },
      "source": [
        "**OPERAÇÕES COM VARIÁVEIS**"
      ]
    },
    {
      "cell_type": "code",
      "metadata": {
        "id": "y_4tUL-CpGVf"
      },
      "source": [
        "idade1 = 25"
      ],
      "execution_count": null,
      "outputs": []
    },
    {
      "cell_type": "code",
      "metadata": {
        "id": "5R1KmLxLpGYX"
      },
      "source": [
        "idade2 = 40"
      ],
      "execution_count": null,
      "outputs": []
    },
    {
      "cell_type": "code",
      "metadata": {
        "colab": {
          "base_uri": "https://localhost:8080/"
        },
        "id": "PNqz2hY2pGba",
        "outputId": "8a243d0e-fdaf-421c-9283-7cb442405546"
      },
      "source": [
        "idade1 + idade2"
      ],
      "execution_count": null,
      "outputs": [
        {
          "output_type": "execute_result",
          "data": {
            "text/plain": [
              "65"
            ]
          },
          "metadata": {
            "tags": []
          },
          "execution_count": 26
        }
      ]
    },
    {
      "cell_type": "code",
      "metadata": {
        "colab": {
          "base_uri": "https://localhost:8080/"
        },
        "id": "eZOkTuZopGfG",
        "outputId": "671f9eaf-14e3-4616-8f1b-b3d9190bb1ca"
      },
      "source": [
        "idade1 - idade2"
      ],
      "execution_count": null,
      "outputs": [
        {
          "output_type": "execute_result",
          "data": {
            "text/plain": [
              "-15"
            ]
          },
          "metadata": {
            "tags": []
          },
          "execution_count": 27
        }
      ]
    },
    {
      "cell_type": "code",
      "metadata": {
        "colab": {
          "base_uri": "https://localhost:8080/"
        },
        "id": "kdS3XyK8pGg9",
        "outputId": "e29d6c48-97e3-4597-d080-d4f426dae24e"
      },
      "source": [
        "idade1 * idade2"
      ],
      "execution_count": null,
      "outputs": [
        {
          "output_type": "execute_result",
          "data": {
            "text/plain": [
              "1000"
            ]
          },
          "metadata": {
            "tags": []
          },
          "execution_count": 28
        }
      ]
    },
    {
      "cell_type": "code",
      "metadata": {
        "colab": {
          "base_uri": "https://localhost:8080/"
        },
        "id": "iB7iQGGh0XZ4",
        "outputId": "bbeaff29-b305-4945-e804-911a4c461440"
      },
      "source": [
        "idade1 / idade2"
      ],
      "execution_count": null,
      "outputs": [
        {
          "output_type": "execute_result",
          "data": {
            "text/plain": [
              "0.625"
            ]
          },
          "metadata": {
            "tags": []
          },
          "execution_count": 33
        }
      ]
    },
    {
      "cell_type": "code",
      "metadata": {
        "colab": {
          "base_uri": "https://localhost:8080/"
        },
        "id": "hLr50WDj0Xpd",
        "outputId": "5f156ca1-c294-44e5-c549-60bea46bb7ce"
      },
      "source": [
        "idade1 % idade2"
      ],
      "execution_count": null,
      "outputs": [
        {
          "output_type": "execute_result",
          "data": {
            "text/plain": [
              "25"
            ]
          },
          "metadata": {
            "tags": []
          },
          "execution_count": 34
        }
      ]
    },
    {
      "cell_type": "markdown",
      "metadata": {
        "id": "e2vgKdizz2GM"
      },
      "source": [
        "**CONCATENAÇÃO DAS VARIÁVEIS**"
      ]
    },
    {
      "cell_type": "code",
      "metadata": {
        "id": "LSiat9ZUpGjz"
      },
      "source": [
        "nome = \"David\""
      ],
      "execution_count": null,
      "outputs": []
    },
    {
      "cell_type": "code",
      "metadata": {
        "id": "q5gBzZNFpGnL"
      },
      "source": [
        "sobrenome = \"Marques\""
      ],
      "execution_count": null,
      "outputs": []
    },
    {
      "cell_type": "code",
      "metadata": {
        "id": "xHFDBvInpGpv"
      },
      "source": [
        "fullname = nome + \" \" + sobrenome"
      ],
      "execution_count": null,
      "outputs": []
    },
    {
      "cell_type": "code",
      "metadata": {
        "colab": {
          "base_uri": "https://localhost:8080/",
          "height": 35
        },
        "id": "91_KqkwrpGtO",
        "outputId": "04e6e1b6-ae80-43a4-ffb4-9ccaaf64e064"
      },
      "source": [
        "fullname"
      ],
      "execution_count": null,
      "outputs": [
        {
          "output_type": "execute_result",
          "data": {
            "application/vnd.google.colaboratory.intrinsic+json": {
              "type": "string"
            },
            "text/plain": [
              "'David Marques'"
            ]
          },
          "metadata": {
            "tags": []
          },
          "execution_count": 32
        }
      ]
    },
    {
      "cell_type": "markdown",
      "metadata": {
        "id": "w474WG5g2PEF"
      },
      "source": [
        "**STRINGS**"
      ]
    },
    {
      "cell_type": "markdown",
      "metadata": {
        "id": "-9bgVBBi5G0q"
      },
      "source": [
        "STRING É UMA SEQUENCIA IMUTÁVEL DE CARACTERES OU APENAS 1 CARACTER - PYTHON PODE USAR ÍNDICES PARA CHAMAR PARTES DA SEQUENCIA "
      ]
    },
    {
      "cell_type": "markdown",
      "metadata": {
        "id": "SYg3Rp-S5hFk"
      },
      "source": [
        "EM PYTHON **USAMOS COLCHETES [ ] PARA REPRESENTAR O ÍNDICE DE UM OBJETO**\n",
        "\n",
        "A INDEXAÇÃO EM PYTHON COMEÇA POR ZERO\n",
        "\n",
        "PYTHON É UMA LINGUAGEM ORIENTADA A OBJETO\n",
        "\n",
        "PODE SE UTILIZAR AS SIMPLES '' OU DUPLAS \" \""
      ]
    },
    {
      "cell_type": "code",
      "metadata": {
        "id": "DHiGHh5wpGwI"
      },
      "source": [
        "texto = \"Python e Análise de Dados\""
      ],
      "execution_count": null,
      "outputs": []
    },
    {
      "cell_type": "code",
      "metadata": {
        "colab": {
          "base_uri": "https://localhost:8080/",
          "height": 35
        },
        "id": "ZLfZ3zbepQw6",
        "outputId": "746e0f9d-0434-4708-e51a-14f8cd989261"
      },
      "source": [
        "texto[0]"
      ],
      "execution_count": null,
      "outputs": [
        {
          "output_type": "execute_result",
          "data": {
            "application/vnd.google.colaboratory.intrinsic+json": {
              "type": "string"
            },
            "text/plain": [
              "'P'"
            ]
          },
          "metadata": {
            "tags": []
          },
          "execution_count": 36
        }
      ]
    },
    {
      "cell_type": "code",
      "metadata": {
        "colab": {
          "base_uri": "https://localhost:8080/",
          "height": 35
        },
        "id": "jVb72Fg0pQye",
        "outputId": "5537788e-dcc2-4eb3-e1bc-cd65e8d98772"
      },
      "source": [
        "texto[1]"
      ],
      "execution_count": null,
      "outputs": [
        {
          "output_type": "execute_result",
          "data": {
            "application/vnd.google.colaboratory.intrinsic+json": {
              "type": "string"
            },
            "text/plain": [
              "'y'"
            ]
          },
          "metadata": {
            "tags": []
          },
          "execution_count": 37
        }
      ]
    },
    {
      "cell_type": "code",
      "metadata": {
        "colab": {
          "base_uri": "https://localhost:8080/",
          "height": 35
        },
        "id": "lB6a2RkRpQ1r",
        "outputId": "8f8bd61f-fcd4-430c-a33a-accc87932424"
      },
      "source": [
        "\"Python e Análise de Dados\""
      ],
      "execution_count": null,
      "outputs": [
        {
          "output_type": "execute_result",
          "data": {
            "application/vnd.google.colaboratory.intrinsic+json": {
              "type": "string"
            },
            "text/plain": [
              "'Python e Análise de Dados'"
            ]
          },
          "metadata": {
            "tags": []
          },
          "execution_count": 42
        }
      ]
    },
    {
      "cell_type": "code",
      "metadata": {
        "id": "3pJCOpVhDzne"
      },
      "source": [
        "s = \"Ciência de Dados\""
      ],
      "execution_count": null,
      "outputs": []
    },
    {
      "cell_type": "code",
      "metadata": {
        "colab": {
          "base_uri": "https://localhost:8080/",
          "height": 35
        },
        "id": "00eMxGmppRDK",
        "outputId": "3a84a794-14c2-4c3d-c421-cc4e54e5661f"
      },
      "source": [
        "#OS : PODEM SER USADOS PARA EXECULTAR UM SLICING QUE FAZ A LEITURA DE UM PONTO DESIGNADO\n",
        "s[:1]"
      ],
      "execution_count": null,
      "outputs": [
        {
          "output_type": "execute_result",
          "data": {
            "application/vnd.google.colaboratory.intrinsic+json": {
              "type": "string"
            },
            "text/plain": [
              "'C'"
            ]
          },
          "metadata": {
            "tags": []
          },
          "execution_count": 53
        }
      ]
    },
    {
      "cell_type": "code",
      "metadata": {
        "colab": {
          "base_uri": "https://localhost:8080/",
          "height": 35
        },
        "id": "aZ7boS21XAVt",
        "outputId": "3572954b-3c87-4547-f2f4-5b8230b740e3"
      },
      "source": [
        "#A STRING ORIGINAL PERMANECE INALTERADA\n",
        "s"
      ],
      "execution_count": null,
      "outputs": [
        {
          "output_type": "execute_result",
          "data": {
            "application/vnd.google.colaboratory.intrinsic+json": {
              "type": "string"
            },
            "text/plain": [
              "'Ciência de Dados'"
            ]
          },
          "metadata": {
            "tags": []
          },
          "execution_count": 54
        }
      ]
    },
    {
      "cell_type": "code",
      "metadata": {
        "colab": {
          "base_uri": "https://localhost:8080/",
          "height": 35
        },
        "id": "jIc7FpmlXAYG",
        "outputId": "1af23865-ecc1-4448-f2b2-31775f63e5b6"
      },
      "source": [
        "#RETORNA TUDO ATÉ A POSIÇÃO 3\n",
        "s[:3]"
      ],
      "execution_count": null,
      "outputs": [
        {
          "output_type": "execute_result",
          "data": {
            "application/vnd.google.colaboratory.intrinsic+json": {
              "type": "string"
            },
            "text/plain": [
              "'Ciê'"
            ]
          },
          "metadata": {
            "tags": []
          },
          "execution_count": 55
        }
      ]
    },
    {
      "cell_type": "code",
      "metadata": {
        "colab": {
          "base_uri": "https://localhost:8080/",
          "height": 35
        },
        "id": "r44CAJK8XAa8",
        "outputId": "551e5582-8a6c-40e0-ad27-a58443f8d5f9"
      },
      "source": [
        "s[:]"
      ],
      "execution_count": null,
      "outputs": [
        {
          "output_type": "execute_result",
          "data": {
            "application/vnd.google.colaboratory.intrinsic+json": {
              "type": "string"
            },
            "text/plain": [
              "'Ciência de Dados'"
            ]
          },
          "metadata": {
            "tags": []
          },
          "execution_count": 56
        }
      ]
    },
    {
      "cell_type": "code",
      "metadata": {
        "colab": {
          "base_uri": "https://localhost:8080/",
          "height": 35
        },
        "id": "8OYgoIxAEakW",
        "outputId": "78e7d0c3-e841-4df5-dfd2-752da8752dfd"
      },
      "source": [
        "#PODEMOS USAR A INDEXAÇÃO NEGATIVA PARA LER DE TRÁS PRA FRENTE\n",
        "s[-1]"
      ],
      "execution_count": null,
      "outputs": [
        {
          "output_type": "execute_result",
          "data": {
            "application/vnd.google.colaboratory.intrinsic+json": {
              "type": "string"
            },
            "text/plain": [
              "'s'"
            ]
          },
          "metadata": {
            "tags": []
          },
          "execution_count": 59
        }
      ]
    },
    {
      "cell_type": "code",
      "metadata": {
        "colab": {
          "base_uri": "https://localhost:8080/",
          "height": 35
        },
        "id": "yPiQASeDEamo",
        "outputId": "726cd669-6ff9-4906-ae23-aaa957703303"
      },
      "source": [
        "#PODEMOS RETORNAR TUDO, EXCETO AS 3 ÚLTUMAS LETRAS\n",
        "s[:-3]"
      ],
      "execution_count": null,
      "outputs": [
        {
          "output_type": "execute_result",
          "data": {
            "application/vnd.google.colaboratory.intrinsic+json": {
              "type": "string"
            },
            "text/plain": [
              "'Ciência de Da'"
            ]
          },
          "metadata": {
            "tags": []
          },
          "execution_count": 60
        }
      ]
    },
    {
      "cell_type": "markdown",
      "metadata": {
        "id": "RTHNOlaRF7E0"
      },
      "source": [
        "Também podemos usar a notação índice e fatiar a string em pedaços (o padrão é 1)"
      ]
    },
    {
      "cell_type": "code",
      "metadata": {
        "colab": {
          "base_uri": "https://localhost:8080/",
          "height": 35
        },
        "id": "jzM5sbayEaox",
        "outputId": "c65bd85b-f65b-4309-9ad7-2a4eede305e7"
      },
      "source": [
        "s[::1]"
      ],
      "execution_count": null,
      "outputs": [
        {
          "output_type": "execute_result",
          "data": {
            "application/vnd.google.colaboratory.intrinsic+json": {
              "type": "string"
            },
            "text/plain": [
              "'Ciência de Dados'"
            ]
          },
          "metadata": {
            "tags": []
          },
          "execution_count": 63
        }
      ]
    },
    {
      "cell_type": "code",
      "metadata": {
        "colab": {
          "base_uri": "https://localhost:8080/",
          "height": 35
        },
        "id": "NhLMBSYTEar1",
        "outputId": "91c6de15-e587-4df1-a226-9e8b1426c3fc"
      },
      "source": [
        "#RETORNA A LETRA A CADA 2 POSIÇÕES\n",
        "s[::2]"
      ],
      "execution_count": null,
      "outputs": [
        {
          "output_type": "execute_result",
          "data": {
            "application/vnd.google.colaboratory.intrinsic+json": {
              "type": "string"
            },
            "text/plain": [
              "'Cêcad ao'"
            ]
          },
          "metadata": {
            "tags": []
          },
          "execution_count": 64
        }
      ]
    },
    {
      "cell_type": "code",
      "metadata": {
        "colab": {
          "base_uri": "https://localhost:8080/",
          "height": 35
        },
        "id": "eI6SLssSEat7",
        "outputId": "34b725d7-9d9c-40e0-e3f2-6c736bb87a71"
      },
      "source": [
        "#RETORNA A LETRA A CADA 1 POSIÇÃO DE TRÁS PRA FRENTE\n",
        "s[::-1]"
      ],
      "execution_count": null,
      "outputs": [
        {
          "output_type": "execute_result",
          "data": {
            "application/vnd.google.colaboratory.intrinsic+json": {
              "type": "string"
            },
            "text/plain": [
              "'sodaD ed aicnêiC'"
            ]
          },
          "metadata": {
            "tags": []
          },
          "execution_count": 65
        }
      ]
    },
    {
      "cell_type": "code",
      "metadata": {
        "colab": {
          "base_uri": "https://localhost:8080/",
          "height": 35
        },
        "id": "wTQYWo_JEavz",
        "outputId": "9b148e70-a231-47dd-d9bd-34f677a7a9a5"
      },
      "source": [
        "#RETORNA A LETRA A CADA 2 POSIÇÔES DE TRÁS PRA FRENTE\n",
        "s[::-2]"
      ],
      "execution_count": null,
      "outputs": [
        {
          "output_type": "execute_result",
          "data": {
            "application/vnd.google.colaboratory.intrinsic+json": {
              "type": "string"
            },
            "text/plain": [
              "'sdDe ini'"
            ]
          },
          "metadata": {
            "tags": []
          },
          "execution_count": 66
        }
      ]
    },
    {
      "cell_type": "markdown",
      "metadata": {
        "id": "exJXXSOiHuyV"
      },
      "source": [
        "**PROPRIEDADES DA STRING**"
      ]
    },
    {
      "cell_type": "code",
      "metadata": {
        "colab": {
          "base_uri": "https://localhost:8080/",
          "height": 35
        },
        "id": "UK2-ffSuEazC",
        "outputId": "8907bc09-82a1-43a5-b7d2-e0cec7136b88"
      },
      "source": [
        "s"
      ],
      "execution_count": null,
      "outputs": [
        {
          "output_type": "execute_result",
          "data": {
            "application/vnd.google.colaboratory.intrinsic+json": {
              "type": "string"
            },
            "text/plain": [
              "'Ciência de Dados'"
            ]
          },
          "metadata": {
            "tags": []
          },
          "execution_count": 67
        }
      ]
    },
    {
      "cell_type": "code",
      "metadata": {
        "colab": {
          "base_uri": "https://localhost:8080/",
          "height": 180
        },
        "id": "3hQN1GdiEa1n",
        "outputId": "c1ca7cca-80ee-4b33-e8a5-460df580bd12"
      },
      "source": [
        "#NÃO SE PODE ALTERAR UM CARACTER DE UMA STRING\n",
        "s [0] = \"x\""
      ],
      "execution_count": null,
      "outputs": [
        {
          "output_type": "error",
          "ename": "TypeError",
          "evalue": "ignored",
          "traceback": [
            "\u001b[0;31m---------------------------------------------------------------------------\u001b[0m",
            "\u001b[0;31mTypeError\u001b[0m                                 Traceback (most recent call last)",
            "\u001b[0;32m<ipython-input-69-88df54ea7ee0>\u001b[0m in \u001b[0;36m<module>\u001b[0;34m()\u001b[0m\n\u001b[1;32m      1\u001b[0m \u001b[0;31m#ALTERANDO UM CARACTER DA STRING\u001b[0m\u001b[0;34m\u001b[0m\u001b[0;34m\u001b[0m\u001b[0;34m\u001b[0m\u001b[0m\n\u001b[0;32m----> 2\u001b[0;31m \u001b[0ms\u001b[0m \u001b[0;34m[\u001b[0m\u001b[0;36m0\u001b[0m\u001b[0;34m]\u001b[0m \u001b[0;34m=\u001b[0m \u001b[0;34m\"x\"\u001b[0m\u001b[0;34m\u001b[0m\u001b[0;34m\u001b[0m\u001b[0m\n\u001b[0m",
            "\u001b[0;31mTypeError\u001b[0m: 'str' object does not support item assignment"
          ]
        }
      ]
    },
    {
      "cell_type": "code",
      "metadata": {
        "colab": {
          "base_uri": "https://localhost:8080/",
          "height": 35
        },
        "id": "7uYv3qwpEbGa",
        "outputId": "9a118ae7-8a75-47dd-fa76-90dc0b687255"
      },
      "source": [
        "#CONCATENANDO STRINGS\n",
        "s + ' é vida'"
      ],
      "execution_count": null,
      "outputs": [
        {
          "output_type": "execute_result",
          "data": {
            "application/vnd.google.colaboratory.intrinsic+json": {
              "type": "string"
            },
            "text/plain": [
              "'Ciência de Dados é vida'"
            ]
          },
          "metadata": {
            "tags": []
          },
          "execution_count": 71
        }
      ]
    },
    {
      "cell_type": "code",
      "metadata": {
        "id": "df-Z6xH2EbH9"
      },
      "source": [
        "#PODEMOS USAR O SÍMBOLO DE MULTIPLICAÇÃO PARA CRIAR UMA REPETIÇÃO\n",
        "letra = 'w'"
      ],
      "execution_count": null,
      "outputs": []
    },
    {
      "cell_type": "code",
      "metadata": {
        "colab": {
          "base_uri": "https://localhost:8080/",
          "height": 35
        },
        "id": "5RCheqqFEbKF",
        "outputId": "6223541c-7ae6-43c6-d590-5d9bc5c95833"
      },
      "source": [
        "letra *3"
      ],
      "execution_count": null,
      "outputs": [
        {
          "output_type": "execute_result",
          "data": {
            "application/vnd.google.colaboratory.intrinsic+json": {
              "type": "string"
            },
            "text/plain": [
              "'www'"
            ]
          },
          "metadata": {
            "tags": []
          },
          "execution_count": 73
        }
      ]
    },
    {
      "cell_type": "markdown",
      "metadata": {
        "id": "1v4qAeD0Jm-F"
      },
      "source": [
        "**FUNÇÕES BUILT-IN DE STRINGS**"
      ]
    },
    {
      "cell_type": "code",
      "metadata": {
        "colab": {
          "base_uri": "https://localhost:8080/",
          "height": 35
        },
        "id": "HsdbrZsEEbMr",
        "outputId": "60c45ba2-6c32-4022-ef67-d3099e1833c7"
      },
      "source": [
        "s"
      ],
      "execution_count": null,
      "outputs": [
        {
          "output_type": "execute_result",
          "data": {
            "application/vnd.google.colaboratory.intrinsic+json": {
              "type": "string"
            },
            "text/plain": [
              "'Ciência de Dados'"
            ]
          },
          "metadata": {
            "tags": []
          },
          "execution_count": 74
        }
      ]
    },
    {
      "cell_type": "code",
      "metadata": {
        "colab": {
          "base_uri": "https://localhost:8080/",
          "height": 35
        },
        "id": "-onMinwxEbQT",
        "outputId": "1ceff299-b38b-4353-896b-472995b76c21"
      },
      "source": [
        "#UPPER CASE: PASSA A STRING PARA MAIÚSCULA\n",
        "s.upper()"
      ],
      "execution_count": null,
      "outputs": [
        {
          "output_type": "execute_result",
          "data": {
            "application/vnd.google.colaboratory.intrinsic+json": {
              "type": "string"
            },
            "text/plain": [
              "'CIÊNCIA DE DADOS'"
            ]
          },
          "metadata": {
            "tags": []
          },
          "execution_count": 76
        }
      ]
    },
    {
      "cell_type": "code",
      "metadata": {
        "colab": {
          "base_uri": "https://localhost:8080/",
          "height": 35
        },
        "id": "suiGfnC1XAcv",
        "outputId": "3d89c785-dad1-4e36-e7fd-29ea36f64bcc"
      },
      "source": [
        "#LOWER CASE: PASSA A STRING PARA MINÚSCULA\n",
        "s.lower() "
      ],
      "execution_count": null,
      "outputs": [
        {
          "output_type": "execute_result",
          "data": {
            "application/vnd.google.colaboratory.intrinsic+json": {
              "type": "string"
            },
            "text/plain": [
              "'ciência de dados'"
            ]
          },
          "metadata": {
            "tags": []
          },
          "execution_count": 77
        }
      ]
    },
    {
      "cell_type": "code",
      "metadata": {
        "colab": {
          "base_uri": "https://localhost:8080/"
        },
        "id": "sxYOVmb2XAfV",
        "outputId": "baa025bc-a8fd-40c3-c2af-452910ee1622"
      },
      "source": [
        "#DIVIDIR A STRING POR ESPAÇOS EM BRANCO (PADRÃO)\n",
        "s.split()"
      ],
      "execution_count": null,
      "outputs": [
        {
          "output_type": "execute_result",
          "data": {
            "text/plain": [
              "['Ciência', 'de', 'Dados']"
            ]
          },
          "metadata": {
            "tags": []
          },
          "execution_count": 78
        }
      ]
    },
    {
      "cell_type": "code",
      "metadata": {
        "colab": {
          "base_uri": "https://localhost:8080/"
        },
        "id": "tFdY4ej1XAj0",
        "outputId": "7a095a2e-9c11-4b35-d029-a65843cb41fd"
      },
      "source": [
        "#DIVIDIR A STRING POR ALGUM ELEMENTO ESPECÍFICO\n",
        "s.split('de')"
      ],
      "execution_count": null,
      "outputs": [
        {
          "output_type": "execute_result",
          "data": {
            "text/plain": [
              "['Ciência ', ' Dados']"
            ]
          },
          "metadata": {
            "tags": []
          },
          "execution_count": 82
        }
      ]
    },
    {
      "cell_type": "markdown",
      "metadata": {
        "id": "OM5cxuEeOxNQ"
      },
      "source": [
        "**FUNÇÕES STRINGS**"
      ]
    },
    {
      "cell_type": "code",
      "metadata": {
        "colab": {
          "base_uri": "https://localhost:8080/",
          "height": 35
        },
        "id": "OlxPJsbDXA2e",
        "outputId": "ac4baa60-a65b-4d08-8205-6cf8d2526e9a"
      },
      "source": [
        "s"
      ],
      "execution_count": null,
      "outputs": [
        {
          "output_type": "execute_result",
          "data": {
            "application/vnd.google.colaboratory.intrinsic+json": {
              "type": "string"
            },
            "text/plain": [
              "'Ciência de Dados'"
            ]
          },
          "metadata": {
            "tags": []
          },
          "execution_count": 83
        }
      ]
    },
    {
      "cell_type": "code",
      "metadata": {
        "colab": {
          "base_uri": "https://localhost:8080/",
          "height": 35
        },
        "id": "RtFnsuarOspt",
        "outputId": "4bfacd73-34d2-4047-f546-5154f7c3839f"
      },
      "source": [
        "#APENAS A PRIMEIRA LETRA COMO MAIÚSCULA\n",
        "s.capitalize()"
      ],
      "execution_count": null,
      "outputs": [
        {
          "output_type": "execute_result",
          "data": {
            "application/vnd.google.colaboratory.intrinsic+json": {
              "type": "string"
            },
            "text/plain": [
              "'Ciência de dados'"
            ]
          },
          "metadata": {
            "tags": []
          },
          "execution_count": 84
        }
      ]
    },
    {
      "cell_type": "code",
      "metadata": {
        "colab": {
          "base_uri": "https://localhost:8080/"
        },
        "id": "v5lbqLfeOssJ",
        "outputId": "7b701dac-e1a6-4d53-aae8-17440c269b3b"
      },
      "source": [
        "#FUNÇÃO COUNT PARA VERIFICAR QUANTAS VEZES A LETRA APARECE NA STRING\n",
        "s.count('i')"
      ],
      "execution_count": null,
      "outputs": [
        {
          "output_type": "execute_result",
          "data": {
            "text/plain": [
              "2"
            ]
          },
          "metadata": {
            "tags": []
          },
          "execution_count": 86
        }
      ]
    },
    {
      "cell_type": "code",
      "metadata": {
        "colab": {
          "base_uri": "https://localhost:8080/"
        },
        "id": "doUkpDNZOst3",
        "outputId": "0dd9a61f-6e2c-4b85-d486-9f4c899b1e5e"
      },
      "source": [
        "#FUNÇÃO FIND PARA ENCONTRAR ENCONTRAR A POSIÇÃO DE UMA LETRA DENTRO DA STRING\n",
        "s.find('a')"
      ],
      "execution_count": null,
      "outputs": [
        {
          "output_type": "execute_result",
          "data": {
            "text/plain": [
              "6"
            ]
          },
          "metadata": {
            "tags": []
          },
          "execution_count": 87
        }
      ]
    },
    {
      "cell_type": "code",
      "metadata": {
        "colab": {
          "base_uri": "https://localhost:8080/"
        },
        "id": "hdcr2OPKOsv0",
        "outputId": "79ce668d-4d36-4eda-aa7b-980a916a356a"
      },
      "source": [
        "#FUNÇÃO PARA VERIFICAR SE A STRING TEM VALOR MINÚSCULO\n",
        "s.islower()"
      ],
      "execution_count": null,
      "outputs": [
        {
          "output_type": "execute_result",
          "data": {
            "text/plain": [
              "False"
            ]
          },
          "metadata": {
            "tags": []
          },
          "execution_count": 89
        }
      ]
    },
    {
      "cell_type": "code",
      "metadata": {
        "colab": {
          "base_uri": "https://localhost:8080/"
        },
        "id": "T-jybGTFOsxs",
        "outputId": "c9b50e13-3c93-4223-badf-55ac792515b6"
      },
      "source": [
        "#FUNÇÃO PARA VERIFICAR SE A STRING É VALOR ESPAÇO\n",
        "s.isspace()"
      ],
      "execution_count": null,
      "outputs": [
        {
          "output_type": "execute_result",
          "data": {
            "text/plain": [
              "False"
            ]
          },
          "metadata": {
            "tags": []
          },
          "execution_count": 90
        }
      ]
    },
    {
      "cell_type": "code",
      "metadata": {
        "colab": {
          "base_uri": "https://localhost:8080/"
        },
        "id": "lyCnlIpKOs0o",
        "outputId": "98d90d22-23f0-4fe6-9edd-b9459164b4d9"
      },
      "source": [
        "#FUNÇÃO PARA VERIFICAR SE A STRING TERMINA COM DETERMINADA LETRA\n",
        "s.endswith('s')"
      ],
      "execution_count": null,
      "outputs": [
        {
          "output_type": "execute_result",
          "data": {
            "text/plain": [
              "True"
            ]
          },
          "metadata": {
            "tags": []
          },
          "execution_count": 92
        }
      ]
    },
    {
      "cell_type": "markdown",
      "metadata": {
        "id": "s6VSM0cEsRM2"
      },
      "source": [
        "**COMPARANDO STRINGS**"
      ]
    },
    {
      "cell_type": "code",
      "metadata": {
        "colab": {
          "base_uri": "https://localhost:8080/"
        },
        "id": "sc8KialbOs7Z",
        "outputId": "63761803-dcab-4b89-f311-c2eb58071aee"
      },
      "source": [
        "print (\"Python\" == \"r\")"
      ],
      "execution_count": null,
      "outputs": [
        {
          "output_type": "stream",
          "text": [
            "False\n"
          ],
          "name": "stdout"
        }
      ]
    },
    {
      "cell_type": "code",
      "metadata": {
        "colab": {
          "base_uri": "https://localhost:8080/"
        },
        "id": "_1OAfHsYOs_U",
        "outputId": "e60e18ba-0f42-4233-a58a-6249429199a0"
      },
      "source": [
        "print (\"Python\" == \"Python\")"
      ],
      "execution_count": null,
      "outputs": [
        {
          "output_type": "stream",
          "text": [
            "True\n"
          ],
          "name": "stdout"
        }
      ]
    },
    {
      "cell_type": "markdown",
      "metadata": {
        "id": "FgAHpfYLt4Of"
      },
      "source": [
        "**ESTRUTURA DE DADOS-LISTAS**\n",
        "\n",
        "AS LISTAS SÃO CONSTRUÍDAS COM O USO DE [ ] E VÍRGULAS SEPARANDO CADA ELEMENTO:\n",
        "\n",
        "**LISTA[ITEM1, ITEM2, ITEM2]**"
      ]
    },
    {
      "cell_type": "code",
      "metadata": {
        "id": "DMv3kIINOtD1"
      },
      "source": [
        "#CRIANDO UMA LISTA\n",
        "listadomercado = [\"ovos, farinha, leite, achocolatado\"]"
      ],
      "execution_count": null,
      "outputs": []
    },
    {
      "cell_type": "code",
      "metadata": {
        "colab": {
          "base_uri": "https://localhost:8080/"
        },
        "id": "sGTtjjsxOtGV",
        "outputId": "846ed1f5-b7d1-4e2d-8024-e19926301e8e"
      },
      "source": [
        "#IMPRIMINDO A LISTA\n",
        "print(listadomercado)"
      ],
      "execution_count": null,
      "outputs": [
        {
          "output_type": "stream",
          "text": [
            "['ovos, farinha, leite, achocolatado']\n"
          ],
          "name": "stdout"
        }
      ]
    },
    {
      "cell_type": "code",
      "metadata": {
        "id": "M4AMCxCCOtIp"
      },
      "source": [
        "#CRIANDO UMA SEGUNDA LISTA\n",
        "listadomercado2 = [\"bacon\", \"batata\", \"refrigerante\", \"detox\"]"
      ],
      "execution_count": null,
      "outputs": []
    },
    {
      "cell_type": "code",
      "metadata": {
        "colab": {
          "base_uri": "https://localhost:8080/"
        },
        "id": "jFQHi-I6OtK0",
        "outputId": "c90057ae-cee8-42db-acff-6654c560614c"
      },
      "source": [
        "#IMPRIMINDO A LISTA 2\n",
        "print(listadomercado2)"
      ],
      "execution_count": null,
      "outputs": [
        {
          "output_type": "stream",
          "text": [
            "['bacon', 'batata', 'refrigerante', 'detox']\n"
          ],
          "name": "stdout"
        }
      ]
    },
    {
      "cell_type": "code",
      "metadata": {
        "colab": {
          "base_uri": "https://localhost:8080/",
          "height": 35
        },
        "id": "fLTsI0KKOtNz",
        "outputId": "7ea7f168-cdfc-428f-cffd-b59b800d2d9c"
      },
      "source": [
        "#EXTRAINDO O PRIMEIRO ELEMENTO DA LISTA 1\n",
        "listadomercado[0]"
      ],
      "execution_count": null,
      "outputs": [
        {
          "output_type": "execute_result",
          "data": {
            "application/vnd.google.colaboratory.intrinsic+json": {
              "type": "string"
            },
            "text/plain": [
              "'ovos, farinha, leite, achocolatado'"
            ]
          },
          "metadata": {
            "tags": []
          },
          "execution_count": 13
        }
      ]
    },
    {
      "cell_type": "code",
      "metadata": {
        "colab": {
          "base_uri": "https://localhost:8080/",
          "height": 35
        },
        "id": "SjA6U_COOtQP",
        "outputId": "0cb18876-d867-428d-93f8-aa4a8395bea5"
      },
      "source": [
        "#EXTRAINDO O PRIMEIRO ELEMENTO DA LISTA 2\n",
        "listadomercado2[0]"
      ],
      "execution_count": null,
      "outputs": [
        {
          "output_type": "execute_result",
          "data": {
            "application/vnd.google.colaboratory.intrinsic+json": {
              "type": "string"
            },
            "text/plain": [
              "'bacon'"
            ]
          },
          "metadata": {
            "tags": []
          },
          "execution_count": 14
        }
      ]
    },
    {
      "cell_type": "code",
      "metadata": {
        "id": "bxfPWC8vOtSw"
      },
      "source": [
        "#CRIANDO UMA LISTA COM ITENS COM DIVERSOS TIPO\n",
        "lista3 =[15, 100, \"PUC-SP\"]"
      ],
      "execution_count": null,
      "outputs": []
    },
    {
      "cell_type": "code",
      "metadata": {
        "colab": {
          "base_uri": "https://localhost:8080/"
        },
        "id": "r9pnVWdiOtWI",
        "outputId": "10389346-357b-4b4b-b315-778e3a0b542b"
      },
      "source": [
        "print(lista3)"
      ],
      "execution_count": null,
      "outputs": [
        {
          "output_type": "stream",
          "text": [
            "[15, 100, 'PUC-SP']\n"
          ],
          "name": "stdout"
        }
      ]
    },
    {
      "cell_type": "code",
      "metadata": {
        "id": "KivkH-EPOtZF"
      },
      "source": [
        "#ATRIBUINDO CADA VALOR DA LISTA A UMA VARIÁVEL\n",
        "item1 = lista3[0]\n",
        "item2 = lista3[1]\n",
        "item3 = lista3[2] "
      ],
      "execution_count": null,
      "outputs": []
    },
    {
      "cell_type": "code",
      "metadata": {
        "colab": {
          "base_uri": "https://localhost:8080/"
        },
        "id": "K0Djtl74Otba",
        "outputId": "89c9862c-52c4-4f6c-a9ba-e34de03f7843"
      },
      "source": [
        "#IMPRIMINDO AS VARIÁVEIS\n",
        "print(item1, item2, item3)"
      ],
      "execution_count": null,
      "outputs": [
        {
          "output_type": "stream",
          "text": [
            "15 100 PUC-SP\n"
          ],
          "name": "stdout"
        }
      ]
    },
    {
      "cell_type": "markdown",
      "metadata": {
        "id": "Z9DIlU9I1-E0"
      },
      "source": [
        "**ATUALIZANDO UMA LISTA**"
      ]
    },
    {
      "cell_type": "code",
      "metadata": {
        "colab": {
          "base_uri": "https://localhost:8080/",
          "height": 35
        },
        "id": "2HaJhbpjOtdw",
        "outputId": "2c3e19b7-ae9d-495f-829e-21bd6a421d50"
      },
      "source": [
        "#IMPRIMINDO UM ITEM DA LISTA\n",
        "listadomercado2[2]"
      ],
      "execution_count": null,
      "outputs": [
        {
          "output_type": "execute_result",
          "data": {
            "application/vnd.google.colaboratory.intrinsic+json": {
              "type": "string"
            },
            "text/plain": [
              "'refrigerante'"
            ]
          },
          "metadata": {
            "tags": []
          },
          "execution_count": 20
        }
      ]
    },
    {
      "cell_type": "code",
      "metadata": {
        "id": "Ctoo3ByGOthN"
      },
      "source": [
        "#ATUALIZANDO UM ITEM DA LISTA\n",
        "listadomercado2[2] = \"cerveja\" "
      ],
      "execution_count": null,
      "outputs": []
    },
    {
      "cell_type": "code",
      "metadata": {
        "colab": {
          "base_uri": "https://localhost:8080/"
        },
        "id": "eJlrQ7VZOtjW",
        "outputId": "216cd078-911b-4da0-9780-0cab5fbaefc1"
      },
      "source": [
        "#IMPRIMINDO A LISTA ATUALIZADA\n",
        "listadomercado2"
      ],
      "execution_count": null,
      "outputs": [
        {
          "output_type": "execute_result",
          "data": {
            "text/plain": [
              "['bacon', 'batata', 'cerveja', 'detox']"
            ]
          },
          "metadata": {
            "tags": []
          },
          "execution_count": 22
        }
      ]
    },
    {
      "cell_type": "markdown",
      "metadata": {
        "id": "bMXFXKy93GwO"
      },
      "source": [
        "**DELETANDO UM ITEM DA LISTA**"
      ]
    },
    {
      "cell_type": "code",
      "metadata": {
        "id": "zZs48D3EOtlq"
      },
      "source": [
        "del listadomercado2[3]"
      ],
      "execution_count": null,
      "outputs": []
    },
    {
      "cell_type": "code",
      "metadata": {
        "colab": {
          "base_uri": "https://localhost:8080/"
        },
        "id": "xg9f8-KjOtob",
        "outputId": "0c21236d-c0d5-40c5-b32c-ec06b37c8c19"
      },
      "source": [
        "#IMPRIMINDO A LISTA ALTERADA\n",
        "listadomercado2"
      ],
      "execution_count": null,
      "outputs": [
        {
          "output_type": "execute_result",
          "data": {
            "text/plain": [
              "['bacon', 'batata', 'cerveja']"
            ]
          },
          "metadata": {
            "tags": []
          },
          "execution_count": 24
        }
      ]
    },
    {
      "cell_type": "markdown",
      "metadata": {
        "id": "Qx7_1k1r4Akz"
      },
      "source": [
        "**LISTAS DE LISTAS(LISTAS ALINHADAS)**"
      ]
    },
    {
      "cell_type": "code",
      "metadata": {
        "id": "NhfXHA5eOtqy"
      },
      "source": [
        "#CRIANDO UMA LISTA DE LISTA\n",
        "listas = [[1,2,3], [3,2,1], [99,33,66,55]]"
      ],
      "execution_count": null,
      "outputs": []
    },
    {
      "cell_type": "code",
      "metadata": {
        "colab": {
          "base_uri": "https://localhost:8080/"
        },
        "id": "2a8M0S88Ott-",
        "outputId": "fd35fa66-873c-4a94-b0a3-646448b177ca"
      },
      "source": [
        "listas"
      ],
      "execution_count": null,
      "outputs": [
        {
          "output_type": "execute_result",
          "data": {
            "text/plain": [
              "[[1, 2, 3], [3, 2, 1], [99, 33, 66, 55]]"
            ]
          },
          "metadata": {
            "tags": []
          },
          "execution_count": 28
        }
      ]
    },
    {
      "cell_type": "code",
      "metadata": {
        "id": "LRqIikxSXA4m"
      },
      "source": [
        "#ATRIBUINDO UM ITEM DA LISTA A UMA VARIÁVEL\n",
        "a = listas[0]"
      ],
      "execution_count": null,
      "outputs": []
    },
    {
      "cell_type": "code",
      "metadata": {
        "colab": {
          "base_uri": "https://localhost:8080/"
        },
        "id": "zSMayKxHXA6_",
        "outputId": "ee094c5f-a70b-4ad9-9409-0c179bb6553b"
      },
      "source": [
        "#IMPRIMINDO A VARIÁVEL\n",
        "a"
      ],
      "execution_count": null,
      "outputs": [
        {
          "output_type": "execute_result",
          "data": {
            "text/plain": [
              "[1, 2, 3]"
            ]
          },
          "metadata": {
            "tags": []
          },
          "execution_count": 30
        }
      ]
    },
    {
      "cell_type": "code",
      "metadata": {
        "id": "VoZz_4MYXA-p"
      },
      "source": [
        "#PODEMOS ATRIBUIR UM ITEM DA VARIÁVEL \"A\" A UMA VARIÁVEL \"B\"\n",
        "b = a[0]"
      ],
      "execution_count": null,
      "outputs": []
    },
    {
      "cell_type": "code",
      "metadata": {
        "colab": {
          "base_uri": "https://localhost:8080/"
        },
        "id": "lSsRuC2J5skr",
        "outputId": "bf13fc2f-1757-4d4d-e084-da3f4e9b7426"
      },
      "source": [
        "b"
      ],
      "execution_count": null,
      "outputs": [
        {
          "output_type": "execute_result",
          "data": {
            "text/plain": [
              "1"
            ]
          },
          "metadata": {
            "tags": []
          },
          "execution_count": 32
        }
      ]
    },
    {
      "cell_type": "code",
      "metadata": {
        "id": "GDk28yMZ5sol"
      },
      "source": [
        "#RETORNANDO UM ITEM DA LISTA E GRAVANDO EM UMA OUTRA VARIÁVEL\n",
        "listas1 = listas[1]"
      ],
      "execution_count": null,
      "outputs": []
    },
    {
      "cell_type": "code",
      "metadata": {
        "colab": {
          "base_uri": "https://localhost:8080/"
        },
        "id": "daLIgw_65sqg",
        "outputId": "09a44003-58e9-4603-f36d-7fc6347c32a7"
      },
      "source": [
        "#IMPRIMINDO A NOVA VARIÁVEL\n",
        "listas1"
      ],
      "execution_count": null,
      "outputs": [
        {
          "output_type": "execute_result",
          "data": {
            "text/plain": [
              "[3, 2, 1]"
            ]
          },
          "metadata": {
            "tags": []
          },
          "execution_count": 34
        }
      ]
    },
    {
      "cell_type": "code",
      "metadata": {
        "id": "VX6UtaU_5st1"
      },
      "source": [
        "#SLINCING COM ESTÁ NOVA VARIÁVEL\n",
        "var_1_0 = listas1[0]"
      ],
      "execution_count": null,
      "outputs": []
    },
    {
      "cell_type": "code",
      "metadata": {
        "colab": {
          "base_uri": "https://localhost:8080/"
        },
        "id": "Dufn5zSi5swS",
        "outputId": "acab5aad-b6b0-4da5-9b11-74d921b70c0b"
      },
      "source": [
        "var_1_0"
      ],
      "execution_count": null,
      "outputs": [
        {
          "output_type": "execute_result",
          "data": {
            "text/plain": [
              "3"
            ]
          },
          "metadata": {
            "tags": []
          },
          "execution_count": 36
        }
      ]
    },
    {
      "cell_type": "code",
      "metadata": {
        "id": "rGHCIWHV5szk"
      },
      "source": [
        "#SLINCING COM O SEGUNDO ELEMENTO DA NOVA VARIÁVEL\n",
        "var_1_1 = listas1[1]"
      ],
      "execution_count": null,
      "outputs": []
    },
    {
      "cell_type": "code",
      "metadata": {
        "colab": {
          "base_uri": "https://localhost:8080/"
        },
        "id": "3DVouiJ95s2a",
        "outputId": "b8634050-1754-4474-ebdd-a1b119d597b1"
      },
      "source": [
        "var_1_1"
      ],
      "execution_count": null,
      "outputs": [
        {
          "output_type": "execute_result",
          "data": {
            "text/plain": [
              "2"
            ]
          },
          "metadata": {
            "tags": []
          },
          "execution_count": 38
        }
      ]
    },
    {
      "cell_type": "markdown",
      "metadata": {
        "id": "-73mWp3i9bNp"
      },
      "source": [
        "**OPERAÇÕES COM LISTAS**"
      ]
    },
    {
      "cell_type": "code",
      "metadata": {
        "id": "fnROpRdP5s6P"
      },
      "source": [
        "#CRIANDO UMA LISTA ALINHADA\n",
        "listas = [[1,2,3], [3,2,1], [99,33,66,55]]"
      ],
      "execution_count": null,
      "outputs": []
    },
    {
      "cell_type": "code",
      "metadata": {
        "colab": {
          "base_uri": "https://localhost:8080/"
        },
        "id": "jBPQa9zm5s-P",
        "outputId": "841f713d-9009-4eaa-92f5-b70d4aa60b36"
      },
      "source": [
        "listas"
      ],
      "execution_count": null,
      "outputs": [
        {
          "output_type": "execute_result",
          "data": {
            "text/plain": [
              "[[1, 2, 3], [3, 2, 1], [99, 33, 66, 55]]"
            ]
          },
          "metadata": {
            "tags": []
          },
          "execution_count": 40
        }
      ]
    },
    {
      "cell_type": "code",
      "metadata": {
        "id": "6mxR4kZ55tA_"
      },
      "source": [
        "#ATRIBUINDO A VARIÁVEL \"A\" AO PRIMEIRO VALOR DA PRIMEIRA LISTA\n",
        "listas[0][0] = \"a\""
      ],
      "execution_count": null,
      "outputs": []
    },
    {
      "cell_type": "code",
      "metadata": {
        "colab": {
          "base_uri": "https://localhost:8080/"
        },
        "id": "cZOsal9D5tDG",
        "outputId": "02d91a54-06b3-4eaf-b82f-4acb33682273"
      },
      "source": [
        "listas"
      ],
      "execution_count": null,
      "outputs": [
        {
          "output_type": "execute_result",
          "data": {
            "text/plain": [
              "[['a', 2, 3], [3, 2, 1], [99, 33, 66, 55]]"
            ]
          },
          "metadata": {
            "tags": []
          },
          "execution_count": 42
        }
      ]
    },
    {
      "cell_type": "code",
      "metadata": {
        "id": "n77h5CRp5tFM"
      },
      "source": [
        "#ATRIBUINDO A VARIÁVEL \"B\" AO PRIMEIRO VALOR DA SEGUNDO LISTA\n",
        "listas[1][2] = \"b\""
      ],
      "execution_count": null,
      "outputs": []
    },
    {
      "cell_type": "code",
      "metadata": {
        "colab": {
          "base_uri": "https://localhost:8080/"
        },
        "id": "rP9GN3O05tIN",
        "outputId": "5d5f0492-236e-47ea-e686-9820774d2d58"
      },
      "source": [
        "listas"
      ],
      "execution_count": null,
      "outputs": [
        {
          "output_type": "execute_result",
          "data": {
            "text/plain": [
              "[['a', 2, 3], [3, 2, 'b'], [99, 33, 66, 55]]"
            ]
          },
          "metadata": {
            "tags": []
          },
          "execution_count": 44
        }
      ]
    },
    {
      "cell_type": "code",
      "metadata": {
        "id": "zcOadTnR5tLd"
      },
      "source": [
        "#PODEMOS SOMAR UM VALOR A ALGUM ITEM DA LISTA\n",
        "c = listas[2][3] + 55 "
      ],
      "execution_count": null,
      "outputs": []
    },
    {
      "cell_type": "code",
      "metadata": {
        "colab": {
          "base_uri": "https://localhost:8080/"
        },
        "id": "7VzCqtj45tOu",
        "outputId": "5199988b-b778-4a6e-e468-e7a5b6f606d6"
      },
      "source": [
        "c"
      ],
      "execution_count": null,
      "outputs": [
        {
          "output_type": "execute_result",
          "data": {
            "text/plain": [
              "110"
            ]
          },
          "metadata": {
            "tags": []
          },
          "execution_count": 46
        }
      ]
    },
    {
      "cell_type": "markdown",
      "metadata": {
        "id": "hXAAVZKj9xfI"
      },
      "source": [
        "**ESTRUTURA DE DADOS - DICIONÁRIOS**"
      ]
    },
    {
      "cell_type": "markdown",
      "metadata": {
        "id": "oIlMokYY-mjF"
      },
      "source": [
        "OS DICIONÁRIOS SÃO CONSTRUÍDOS COM USO DE CHAVES { } E VÍRGULAS SEPARANDO CADA ELEMENTO DO DICIONÁRIO DICT = {K1:V1, K2:V2...KN:VN}\n",
        "\n",
        "{CHAVE1:VALOR1, CHAVE2:VALOR2}"
      ]
    },
    {
      "cell_type": "code",
      "metadata": {
        "id": "OzU_xYCw5taU"
      },
      "source": [
        "#CRIANDO UM DICIONÁRIO\n",
        "estudantes_dict = {\"david\":29, \"Marques\":28, \"Medina\":34, \"Italo\":40}"
      ],
      "execution_count": null,
      "outputs": []
    },
    {
      "cell_type": "code",
      "metadata": {
        "id": "nbbNITRL5tdX",
        "colab": {
          "base_uri": "https://localhost:8080/"
        },
        "outputId": "626bdcce-06dc-4c1f-e4d0-bb227de86fca"
      },
      "source": [
        "estudantes_dict"
      ],
      "execution_count": null,
      "outputs": [
        {
          "output_type": "execute_result",
          "data": {
            "text/plain": [
              "{'Italo': 40, 'Marques': 28, 'Medina': 34, 'david': 29}"
            ]
          },
          "metadata": {
            "tags": []
          },
          "execution_count": 4
        }
      ]
    },
    {
      "cell_type": "code",
      "metadata": {
        "id": "OHn4NqrJ5tjb",
        "colab": {
          "base_uri": "https://localhost:8080/"
        },
        "outputId": "3a688236-2261-4b5b-e872-ce2ef6316add"
      },
      "source": [
        "#UMA VEZ DEFINIDO O DICINÁRIO, PODEMOS USAR A CHAVE DO DICIONÁRIO - RETORNANDO O VALOR DA CHAVE, ONDE O ÍNDICE É DAVID\n",
        "estudantes_dict[\"david\"]"
      ],
      "execution_count": null,
      "outputs": [
        {
          "output_type": "execute_result",
          "data": {
            "text/plain": [
              "29"
            ]
          },
          "metadata": {
            "tags": []
          },
          "execution_count": 8
        }
      ]
    },
    {
      "cell_type": "code",
      "metadata": {
        "id": "sgChXsN15tmf"
      },
      "source": [
        "#PODEMOS ATRIBUIR UM NOVO VALOR A UMA DETERMINADA CHAVE\n",
        "estudantes_dict[\"Medina\"] = 99"
      ],
      "execution_count": null,
      "outputs": []
    },
    {
      "cell_type": "code",
      "metadata": {
        "id": "sGROAi4p5tpl",
        "colab": {
          "base_uri": "https://localhost:8080/"
        },
        "outputId": "7a367f7c-40ae-40b8-fba7-e16791cec651"
      },
      "source": [
        "#IMPRIMINDO ALTERAÇÃO\n",
        "estudantes_dict[\"Medina\"]"
      ],
      "execution_count": null,
      "outputs": [
        {
          "output_type": "execute_result",
          "data": {
            "text/plain": [
              "99"
            ]
          },
          "metadata": {
            "tags": []
          },
          "execution_count": 10
        }
      ]
    },
    {
      "cell_type": "code",
      "metadata": {
        "id": "X3eawf9N5tsi",
        "colab": {
          "base_uri": "https://localhost:8080/"
        },
        "outputId": "5e04b56f-7e1e-48dc-b9ef-83b2a1ecdd4b"
      },
      "source": [
        "#IMPRIMINDO O DICIONÁRIO ATUALIZADO\n",
        "estudantes_dict"
      ],
      "execution_count": null,
      "outputs": [
        {
          "output_type": "execute_result",
          "data": {
            "text/plain": [
              "{'Italo': 40, 'Marques': 28, 'Medina': 99, 'david': 29}"
            ]
          },
          "metadata": {
            "tags": []
          },
          "execution_count": 11
        }
      ]
    },
    {
      "cell_type": "code",
      "metadata": {
        "id": "Q-_Us0fF5tvi"
      },
      "source": [
        "#LIMPAR O DICIONÁRIO\n",
        "estudantes_dict.clear()"
      ],
      "execution_count": null,
      "outputs": []
    },
    {
      "cell_type": "code",
      "metadata": {
        "id": "xCH9zcDC5tyX",
        "colab": {
          "base_uri": "https://localhost:8080/"
        },
        "outputId": "5e88b33a-c9f0-475e-ee48-0b52be9dbfa2"
      },
      "source": [
        "#IMRPIMINDO O DICIONÁRIO LIMPO\n",
        "estudantes_dict"
      ],
      "execution_count": null,
      "outputs": [
        {
          "output_type": "execute_result",
          "data": {
            "text/plain": [
              "{}"
            ]
          },
          "metadata": {
            "tags": []
          },
          "execution_count": 13
        }
      ]
    },
    {
      "cell_type": "code",
      "metadata": {
        "id": "z5u0Quvg5t1O"
      },
      "source": [
        "#DELETANDO O DICIONÁRIO\n",
        "del estudantes_dict"
      ],
      "execution_count": null,
      "outputs": []
    },
    {
      "cell_type": "code",
      "metadata": {
        "id": "2bmF5dQo5t4G"
      },
      "source": [
        "#RECRIANDO UM DICIONÁRIO\n",
        "estudantes_d = {\"david\":29, \"Marques\":28, \"Medina\":34, \"Italo\":40}"
      ],
      "execution_count": null,
      "outputs": []
    },
    {
      "cell_type": "code",
      "metadata": {
        "id": "WU74y4O85t7Z",
        "colab": {
          "base_uri": "https://localhost:8080/"
        },
        "outputId": "21313326-bf2a-4b73-b727-7663327fa33a"
      },
      "source": [
        "#LENDO O TAMANHO DO DICIONÁRIO\n",
        "len(estudantes_d)"
      ],
      "execution_count": null,
      "outputs": [
        {
          "output_type": "execute_result",
          "data": {
            "text/plain": [
              "4"
            ]
          },
          "metadata": {
            "tags": []
          },
          "execution_count": 9
        }
      ]
    },
    {
      "cell_type": "code",
      "metadata": {
        "id": "38ZLdref5t-o",
        "colab": {
          "base_uri": "https://localhost:8080/"
        },
        "outputId": "2022f8ef-38f1-4987-f8d7-355d1af0db2d"
      },
      "source": [
        "#EXTRAINDO APENAS AS CHAVES DO DICIONÁRIO\n",
        "estudantes_d.keys()"
      ],
      "execution_count": null,
      "outputs": [
        {
          "output_type": "execute_result",
          "data": {
            "text/plain": [
              "dict_keys(['david', 'Marques', 'Medina', 'Italo'])"
            ]
          },
          "metadata": {
            "tags": []
          },
          "execution_count": 10
        }
      ]
    },
    {
      "cell_type": "code",
      "metadata": {
        "id": "LG330YWJ5uBp",
        "colab": {
          "base_uri": "https://localhost:8080/"
        },
        "outputId": "c85d0b43-39ac-467a-86c4-623b206c36a2"
      },
      "source": [
        "#EXTRAINDO APENAS OS VALORES\n",
        "estudantes_d.values()"
      ],
      "execution_count": null,
      "outputs": [
        {
          "output_type": "execute_result",
          "data": {
            "text/plain": [
              "dict_values([29, 28, 34, 40])"
            ]
          },
          "metadata": {
            "tags": []
          },
          "execution_count": 12
        }
      ]
    },
    {
      "cell_type": "code",
      "metadata": {
        "id": "97duoyDO5uFL",
        "colab": {
          "base_uri": "https://localhost:8080/"
        },
        "outputId": "f56b3fe7-2976-49b2-f547-913f7b1f6bcb"
      },
      "source": [
        "#RETORNANDO TODOS OS ITENS\n",
        "estudantes_d.items()"
      ],
      "execution_count": null,
      "outputs": [
        {
          "output_type": "execute_result",
          "data": {
            "text/plain": [
              "dict_items([('david', 29), ('Marques', 28), ('Medina', 34), ('Italo', 40)])"
            ]
          },
          "metadata": {
            "tags": []
          },
          "execution_count": 13
        }
      ]
    },
    {
      "cell_type": "code",
      "metadata": {
        "id": "QRA4yn4N5uKo"
      },
      "source": [
        "#CRIANDO UMA SEGUNDA TABELA\n",
        "estudantes2 = {\"Maria\": 25, \"Erika\": 33, \"Milton\": 35}"
      ],
      "execution_count": null,
      "outputs": []
    },
    {
      "cell_type": "code",
      "metadata": {
        "id": "Ob0Dohqj5uO-"
      },
      "source": [
        "#UDPDATE DE UM DICIONÁRIO EM OUTRO \n",
        "estudantes_d.update(estudantes2)"
      ],
      "execution_count": null,
      "outputs": []
    },
    {
      "cell_type": "code",
      "metadata": {
        "id": "JVgRdjLX5uSA",
        "colab": {
          "base_uri": "https://localhost:8080/"
        },
        "outputId": "c55d6082-454f-4ff9-f82b-016b5fcce73d"
      },
      "source": [
        "#IMPRIMINDO O RESULTADO DO ULPDATE\n",
        "estudantes_d"
      ],
      "execution_count": null,
      "outputs": [
        {
          "output_type": "execute_result",
          "data": {
            "text/plain": [
              "{'Erika': 33,\n",
              " 'Italo': 40,\n",
              " 'Maria': 25,\n",
              " 'Marques': 28,\n",
              " 'Medina': 34,\n",
              " 'Milton': 35,\n",
              " 'david': 29}"
            ]
          },
          "metadata": {
            "tags": []
          },
          "execution_count": 17
        }
      ]
    },
    {
      "cell_type": "code",
      "metadata": {
        "id": "lXdOx_CH5uUw"
      },
      "source": [
        "#CRIANDO UM DICIONÁRIO VAZIO\n",
        "dic99 = {}"
      ],
      "execution_count": null,
      "outputs": []
    },
    {
      "cell_type": "code",
      "metadata": {
        "id": "ScV3Lu_I5uYE"
      },
      "source": [
        "#ATRIBUINDO VALORES AO DICIONÁRIO VAZIO\n",
        "dic99[\"key_one\"] = 2"
      ],
      "execution_count": null,
      "outputs": []
    },
    {
      "cell_type": "code",
      "metadata": {
        "id": "vINuMpHs5uaP"
      },
      "source": [
        "#ATRIBUINDO UM SGUNDO VALOR \n",
        "dic99[\"Eduardo\"] = 29"
      ],
      "execution_count": null,
      "outputs": []
    },
    {
      "cell_type": "code",
      "metadata": {
        "id": "XqNwRQ2y5udO"
      },
      "source": [
        "#CRIANDO UM DICIONÁRIO DE LISTAS\n",
        "dic3 = {\"key1\":1230, \"key2\":[22,453,73.4], \"key3\":[\"maça\", \"leite\", \"batata\"]}"
      ],
      "execution_count": null,
      "outputs": []
    },
    {
      "cell_type": "code",
      "metadata": {
        "id": "5qV6vJee5ugQ",
        "colab": {
          "base_uri": "https://localhost:8080/"
        },
        "outputId": "d8d211d5-fbfc-4cac-fbc4-8500af64ba91"
      },
      "source": [
        "#IMPRIMINDO\n",
        "dic3"
      ],
      "execution_count": null,
      "outputs": [
        {
          "output_type": "execute_result",
          "data": {
            "text/plain": [
              "{'key1': 1230, 'key2': [22, 453, 73.4], 'key3': ['maça', 'leite', 'batata']}"
            ]
          },
          "metadata": {
            "tags": []
          },
          "execution_count": 26
        }
      ]
    },
    {
      "cell_type": "code",
      "metadata": {
        "id": "2XEyn5X_5uiz",
        "colab": {
          "base_uri": "https://localhost:8080/"
        },
        "outputId": "664317e0-4429-4a3d-be6d-6bdabe02cf1d"
      },
      "source": [
        "dic3[\"key2\"]"
      ],
      "execution_count": null,
      "outputs": [
        {
          "output_type": "execute_result",
          "data": {
            "text/plain": [
              "[22, 453, 73.4]"
            ]
          },
          "metadata": {
            "tags": []
          },
          "execution_count": 27
        }
      ]
    },
    {
      "cell_type": "code",
      "metadata": {
        "id": "X2XfgIzL5umM",
        "colab": {
          "base_uri": "https://localhost:8080/",
          "height": 35
        },
        "outputId": "07a662a8-0e71-4806-ecd3-1b0e52e11fa0"
      },
      "source": [
        "#ACESSANDO A TERCEIRA LISTA DO DICIONÁRIO E O ITEM 0\n",
        "dic3[\"key3\"][0].upper()"
      ],
      "execution_count": null,
      "outputs": [
        {
          "output_type": "execute_result",
          "data": {
            "application/vnd.google.colaboratory.intrinsic+json": {
              "type": "string"
            },
            "text/plain": [
              "'MAÇA'"
            ]
          },
          "metadata": {
            "tags": []
          },
          "execution_count": 28
        }
      ]
    },
    {
      "cell_type": "code",
      "metadata": {
        "id": "uZYntj8P5uph"
      },
      "source": [
        "# Operações com itens da lista, dentro do dicionário\n",
        "var1 = dic3['key2'][0] - 2"
      ],
      "execution_count": null,
      "outputs": []
    },
    {
      "cell_type": "code",
      "metadata": {
        "id": "SJ-TxsXX5usR",
        "colab": {
          "base_uri": "https://localhost:8080/"
        },
        "outputId": "b93097b3-3eb4-431f-98dd-ca8a94391e1f"
      },
      "source": [
        "var1"
      ],
      "execution_count": null,
      "outputs": [
        {
          "output_type": "execute_result",
          "data": {
            "text/plain": [
              "20"
            ]
          },
          "metadata": {
            "tags": []
          },
          "execution_count": 30
        }
      ]
    },
    {
      "cell_type": "code",
      "metadata": {
        "id": "dz9olFXb5uvp"
      },
      "source": [
        "# Duas operações no mesmo comando, para atualizar um item dentro da lista - SUBTRAÇÃO E ATRIBUÍÇÃO AO MESMO TEMPO\n",
        "dic3['key2'][0] -= 2"
      ],
      "execution_count": null,
      "outputs": []
    },
    {
      "cell_type": "code",
      "metadata": {
        "id": "S_Grhotg5uyh",
        "colab": {
          "base_uri": "https://localhost:8080/"
        },
        "outputId": "4f6bccda-7111-4ff5-cd3d-5eafa93c7f87"
      },
      "source": [
        "dic3"
      ],
      "execution_count": null,
      "outputs": [
        {
          "output_type": "execute_result",
          "data": {
            "text/plain": [
              "{'key1': 1230, 'key2': [20, 453, 73.4], 'key3': ['maça', 'leite', 'batata']}"
            ]
          },
          "metadata": {
            "tags": []
          },
          "execution_count": 33
        }
      ]
    },
    {
      "cell_type": "markdown",
      "metadata": {
        "id": "M7VSV3EzYwRh"
      },
      "source": [
        "### Criando dicionários aninhados"
      ]
    },
    {
      "cell_type": "code",
      "metadata": {
        "id": "ZLxJw2Ea5u1T"
      },
      "source": [
        "# Criando dicionários aninhados\n",
        "dict_aninhado = {'key1':{'key2_aninhada':{'key3_aninhada':'Dict aninhado em Python'}}}"
      ],
      "execution_count": null,
      "outputs": []
    },
    {
      "cell_type": "code",
      "metadata": {
        "id": "yJnZECyw5u_g",
        "colab": {
          "base_uri": "https://localhost:8080/"
        },
        "outputId": "1b412f90-136c-442f-941c-34c40e2a592a"
      },
      "source": [
        "dict_aninhado"
      ],
      "execution_count": null,
      "outputs": [
        {
          "output_type": "execute_result",
          "data": {
            "text/plain": [
              "{'key1': {'key2_aninhada': {'key3_aninhada': 'Dict aninhado em Python'}}}"
            ]
          },
          "metadata": {
            "tags": []
          },
          "execution_count": 35
        }
      ]
    },
    {
      "cell_type": "code",
      "metadata": {
        "id": "WlSvdImv5vDA",
        "colab": {
          "base_uri": "https://localhost:8080/",
          "height": 35
        },
        "outputId": "1829d4bb-cad2-4c69-d66f-3ff9f6ef63d6"
      },
      "source": [
        "dict_aninhado['key1']['key2_aninhada']['key3_aninhada']"
      ],
      "execution_count": null,
      "outputs": [
        {
          "output_type": "execute_result",
          "data": {
            "application/vnd.google.colaboratory.intrinsic+json": {
              "type": "string"
            },
            "text/plain": [
              "'Dict aninhado em Python'"
            ]
          },
          "metadata": {
            "tags": []
          },
          "execution_count": 36
        }
      ]
    },
    {
      "cell_type": "markdown",
      "metadata": {
        "id": "eo7j9tBsaFtR"
      },
      "source": [
        "## Tuplas##"
      ]
    },
    {
      "cell_type": "code",
      "metadata": {
        "id": "bV3E6wxs5vGO"
      },
      "source": [
        "# Criando uma tupla\n",
        "tupla1 = (\"Geografia\", 23, \"Elefantes\")"
      ],
      "execution_count": null,
      "outputs": []
    },
    {
      "cell_type": "code",
      "metadata": {
        "colab": {
          "base_uri": "https://localhost:8080/"
        },
        "id": "W-xG4ugVaOlz",
        "outputId": "7ecc7ff5-1a9c-44a9-9c1c-515833b8d27b"
      },
      "source": [
        "# Imprimindo a tupla\n",
        "tupla1"
      ],
      "execution_count": null,
      "outputs": [
        {
          "output_type": "execute_result",
          "data": {
            "text/plain": [
              "('Geografia', 23, 'Elefantes')"
            ]
          },
          "metadata": {
            "tags": []
          },
          "execution_count": 38
        }
      ]
    },
    {
      "cell_type": "code",
      "metadata": {
        "colab": {
          "base_uri": "https://localhost:8080/",
          "height": 180
        },
        "id": "fDboG25faOoW",
        "outputId": "85a326ef-2031-4565-ab20-86a66da298d1"
      },
      "source": [
        "# Tuplas não suportam append()\n",
        "tupla1.append(\"Chocolate\")   "
      ],
      "execution_count": null,
      "outputs": [
        {
          "output_type": "error",
          "ename": "AttributeError",
          "evalue": "ignored",
          "traceback": [
            "\u001b[0;31m---------------------------------------------------------------------------\u001b[0m",
            "\u001b[0;31mAttributeError\u001b[0m                            Traceback (most recent call last)",
            "\u001b[0;32m<ipython-input-39-cb90e5e5a1a0>\u001b[0m in \u001b[0;36m<module>\u001b[0;34m()\u001b[0m\n\u001b[1;32m      1\u001b[0m \u001b[0;31m# Tuplas não suportam append()\u001b[0m\u001b[0;34m\u001b[0m\u001b[0;34m\u001b[0m\u001b[0;34m\u001b[0m\u001b[0m\n\u001b[0;32m----> 2\u001b[0;31m \u001b[0mtupla1\u001b[0m\u001b[0;34m.\u001b[0m\u001b[0mappend\u001b[0m\u001b[0;34m(\u001b[0m\u001b[0;34m\"Chocolate\"\u001b[0m\u001b[0;34m)\u001b[0m\u001b[0;34m\u001b[0m\u001b[0;34m\u001b[0m\u001b[0m\n\u001b[0m",
            "\u001b[0;31mAttributeError\u001b[0m: 'tuple' object has no attribute 'append'"
          ]
        }
      ]
    },
    {
      "cell_type": "code",
      "metadata": {
        "id": "OKyv7J1zaOrl"
      },
      "source": [
        "# Tuplas podem ter um único item\n",
        "tupla1 = (\"Chocolate\")"
      ],
      "execution_count": null,
      "outputs": []
    },
    {
      "cell_type": "code",
      "metadata": {
        "colab": {
          "base_uri": "https://localhost:8080/",
          "height": 35
        },
        "id": "qbIwSWv7aOuO",
        "outputId": "7c2a5d2c-1c13-4420-9a8c-0ad54259b3c3"
      },
      "source": [
        "tupla1"
      ],
      "execution_count": null,
      "outputs": [
        {
          "output_type": "execute_result",
          "data": {
            "application/vnd.google.colaboratory.intrinsic+json": {
              "type": "string"
            },
            "text/plain": [
              "'Chocolate'"
            ]
          },
          "metadata": {
            "tags": []
          },
          "execution_count": 41
        }
      ]
    },
    {
      "cell_type": "code",
      "metadata": {
        "id": "ah8B2kjoaOxG"
      },
      "source": [
        "tupla1 = (\"Geografia\", 23, \"Elefantes\")"
      ],
      "execution_count": null,
      "outputs": []
    },
    {
      "cell_type": "code",
      "metadata": {
        "id": "Zkb-D0lKaO0v"
      },
      "source": [
        "# Criando uma nova tupla\n",
        "t2 = ('A', 'B', 'C')"
      ],
      "execution_count": null,
      "outputs": []
    },
    {
      "cell_type": "code",
      "metadata": {
        "colab": {
          "base_uri": "https://localhost:8080/"
        },
        "id": "CWrNOJGoaO3f",
        "outputId": "3480d4c2-d64a-4a72-fba2-955d586e88a4"
      },
      "source": [
        "t2"
      ],
      "execution_count": null,
      "outputs": [
        {
          "output_type": "execute_result",
          "data": {
            "text/plain": [
              "('A', 'B', 'C')"
            ]
          },
          "metadata": {
            "tags": []
          },
          "execution_count": 44
        }
      ]
    },
    {
      "cell_type": "code",
      "metadata": {
        "id": "Bp9aBJABaPBa"
      },
      "source": [
        "# Usando a função list() para converter uma tupla para lista\n",
        "lista_t2 = list(t2)"
      ],
      "execution_count": null,
      "outputs": []
    },
    {
      "cell_type": "code",
      "metadata": {
        "id": "OgO1_qhKaPEn"
      },
      "source": [
        "lista_t2.append('D')"
      ],
      "execution_count": null,
      "outputs": []
    },
    {
      "cell_type": "code",
      "metadata": {
        "id": "yDJ2kqwSaPHg"
      },
      "source": [
        "# Usando a função tuple() para converter uma lista para tupla\n",
        "t2 = tuple(lista_t2)"
      ],
      "execution_count": null,
      "outputs": []
    },
    {
      "cell_type": "code",
      "metadata": {
        "colab": {
          "base_uri": "https://localhost:8080/"
        },
        "id": "0r0RU7qdaPKj",
        "outputId": "f742018d-7372-4c34-9edb-9c17a081a71d"
      },
      "source": [
        "t2"
      ],
      "execution_count": null,
      "outputs": [
        {
          "output_type": "execute_result",
          "data": {
            "text/plain": [
              "('A', 'B', 'C', 'D')"
            ]
          },
          "metadata": {
            "tags": []
          },
          "execution_count": 48
        }
      ]
    },
    {
      "cell_type": "markdown",
      "metadata": {
        "id": "eI5bkLpAdEdW"
      },
      "source": [
        "**LISTA DE EXERCÍCIO 1**"
      ]
    },
    {
      "cell_type": "code",
      "metadata": {
        "id": "ORka5jmOaPOD"
      },
      "source": [
        "# Exercício 1 - Imprima na tela os números de 1 a 10. Use uma lista para armazenar os números."
      ],
      "execution_count": null,
      "outputs": []
    },
    {
      "cell_type": "code",
      "metadata": {
        "id": "0xNuTAs0gVs7"
      },
      "source": [
        "a,b,c,d,e,f,g,h,i,j = 1,2,3,4,5,6,7,8,9,10"
      ],
      "execution_count": null,
      "outputs": []
    },
    {
      "cell_type": "code",
      "metadata": {
        "id": "7jmYaAixgn5r"
      },
      "source": [
        "ex1=[a,b,c,d,e,f,g,h,i,j]"
      ],
      "execution_count": null,
      "outputs": []
    },
    {
      "cell_type": "code",
      "metadata": {
        "id": "IYT6ummYhCVR",
        "colab": {
          "base_uri": "https://localhost:8080/"
        },
        "outputId": "18904ec6-e402-4a95-a832-75ccfa8648ca"
      },
      "source": [
        "ex1"
      ],
      "execution_count": null,
      "outputs": [
        {
          "output_type": "execute_result",
          "data": {
            "text/plain": [
              "[1, 2, 3, 4, 5, 6, 7, 8, 9, 10]"
            ]
          },
          "metadata": {
            "tags": []
          },
          "execution_count": 52
        }
      ]
    },
    {
      "cell_type": "code",
      "metadata": {
        "id": "5EFb9rfeaPSq"
      },
      "source": [
        "# Exercício 2 - Crie uma lista de 5 objetos e imprima na tela"
      ],
      "execution_count": null,
      "outputs": []
    },
    {
      "cell_type": "code",
      "metadata": {
        "id": "lG6D8ehjhxbd"
      },
      "source": [
        "list_obj = [\"bk\", \"mac\",\"mania de churrasco\", \"paris 6\",\"terraço\"]"
      ],
      "execution_count": null,
      "outputs": []
    },
    {
      "cell_type": "code",
      "metadata": {
        "id": "OkG-M9BRiLZb",
        "colab": {
          "base_uri": "https://localhost:8080/"
        },
        "outputId": "76c3d52c-b736-4a90-df6e-8e3c40595267"
      },
      "source": [
        "list_obj"
      ],
      "execution_count": null,
      "outputs": [
        {
          "output_type": "execute_result",
          "data": {
            "text/plain": [
              "['bk', 'mac', 'mania de churrasco', 'paris 6', 'terraço']"
            ]
          },
          "metadata": {
            "tags": []
          },
          "execution_count": 54
        }
      ]
    },
    {
      "cell_type": "code",
      "metadata": {
        "id": "NVwWBx-ih7jU"
      },
      "source": [
        ""
      ],
      "execution_count": null,
      "outputs": []
    },
    {
      "cell_type": "code",
      "metadata": {
        "id": "dIisACz2aPV-"
      },
      "source": [
        "# Exercício 3 - Crie duas strings e concatene as duas em uma terceira string"
      ],
      "execution_count": null,
      "outputs": []
    },
    {
      "cell_type": "code",
      "metadata": {
        "id": "SmCsQJ3EzJmn"
      },
      "source": [
        "var1, var2 = \"David\", \"Marques\""
      ],
      "execution_count": null,
      "outputs": []
    },
    {
      "cell_type": "code",
      "metadata": {
        "id": "apEX2dJPzJ1d"
      },
      "source": [
        "Nome = var1 + \" \" + var2"
      ],
      "execution_count": null,
      "outputs": []
    },
    {
      "cell_type": "code",
      "metadata": {
        "colab": {
          "base_uri": "https://localhost:8080/",
          "height": 35
        },
        "id": "C36NxKPfzKEh",
        "outputId": "0ec1e15b-7547-4770-e3a6-c2da78fbaeb9"
      },
      "source": [
        "Nome"
      ],
      "execution_count": null,
      "outputs": [
        {
          "output_type": "execute_result",
          "data": {
            "application/vnd.google.colaboratory.intrinsic+json": {
              "type": "string"
            },
            "text/plain": [
              "'David Marques'"
            ]
          },
          "metadata": {
            "tags": []
          },
          "execution_count": 3
        }
      ]
    },
    {
      "cell_type": "code",
      "metadata": {
        "id": "JsqwczQJaPYv"
      },
      "source": [
        "# Exercício 4 - Crie uma tupla com os seguintes elementos: 1, 2, 2, 3, 4, 4, 4, 5 e depois utilize a função count do \n",
        "# objeto tupla para verificar quantas vezes o número 4 aparece na tupla"
      ],
      "execution_count": null,
      "outputs": []
    },
    {
      "cell_type": "code",
      "metadata": {
        "id": "ycZxC5CJz-mV"
      },
      "source": [
        "tupla1 = (1, 2, 2, 3, 4, 4, 4, 5)"
      ],
      "execution_count": null,
      "outputs": []
    },
    {
      "cell_type": "code",
      "metadata": {
        "colab": {
          "base_uri": "https://localhost:8080/"
        },
        "id": "Zi_FPtpnz-xu",
        "outputId": "99713743-3f6c-4035-d902-06e4e284c2fd"
      },
      "source": [
        "tupla1.count(4)"
      ],
      "execution_count": null,
      "outputs": [
        {
          "output_type": "execute_result",
          "data": {
            "text/plain": [
              "3"
            ]
          },
          "metadata": {
            "tags": []
          },
          "execution_count": 8
        }
      ]
    },
    {
      "cell_type": "code",
      "metadata": {
        "id": "kQuf6d31aPbh"
      },
      "source": [
        "# Exercício 5 - Crie um dicionário vazio e imprima na tela"
      ],
      "execution_count": null,
      "outputs": []
    },
    {
      "cell_type": "code",
      "metadata": {
        "id": "fHLjlFOj75oW"
      },
      "source": [
        "dic_zz = {}"
      ],
      "execution_count": null,
      "outputs": []
    },
    {
      "cell_type": "code",
      "metadata": {
        "colab": {
          "base_uri": "https://localhost:8080/"
        },
        "id": "mPrDBWpk76iT",
        "outputId": "4f323ae8-055c-4a68-9403-8726e56f58b4"
      },
      "source": [
        "dic_zz"
      ],
      "execution_count": null,
      "outputs": [
        {
          "output_type": "execute_result",
          "data": {
            "text/plain": [
              "{}"
            ]
          },
          "metadata": {
            "tags": []
          },
          "execution_count": 10
        }
      ]
    },
    {
      "cell_type": "code",
      "metadata": {
        "id": "Y5fMOA4UaPec"
      },
      "source": [
        "# Exercício 6 - Crie um dicionário com 3 chaves e 3 valores e imprima na tela"
      ],
      "execution_count": null,
      "outputs": []
    },
    {
      "cell_type": "code",
      "metadata": {
        "id": "Ki7ksA9h8IQh"
      },
      "source": [
        "dic_zy = {\"a\":3, \"b\":\"xx\", \"c\":99}"
      ],
      "execution_count": null,
      "outputs": []
    },
    {
      "cell_type": "code",
      "metadata": {
        "colab": {
          "base_uri": "https://localhost:8080/"
        },
        "id": "yH-lwCeC8IgH",
        "outputId": "53c59f31-866a-4d00-ce48-b9ed3edc388e"
      },
      "source": [
        "dic_zy"
      ],
      "execution_count": null,
      "outputs": [
        {
          "output_type": "execute_result",
          "data": {
            "text/plain": [
              "{'a': 3, 'b': 'xx', 'c': 99}"
            ]
          },
          "metadata": {
            "tags": []
          },
          "execution_count": 16
        }
      ]
    },
    {
      "cell_type": "code",
      "metadata": {
        "id": "N-uqmmrtaPhe"
      },
      "source": [
        "# Exercício 7 - Adicione mais um elemento ao dicionário criado no exercício anterior e imprima na tela"
      ],
      "execution_count": null,
      "outputs": []
    },
    {
      "cell_type": "code",
      "metadata": {
        "id": "3lxBQuwT9cVL"
      },
      "source": [
        "dic_zy[\"chave99\"] = 88"
      ],
      "execution_count": null,
      "outputs": []
    },
    {
      "cell_type": "code",
      "metadata": {
        "colab": {
          "base_uri": "https://localhost:8080/"
        },
        "id": "Zq0PNHS29chR",
        "outputId": "784e3eca-1cdd-415f-d5ec-6d6efd8f091f"
      },
      "source": [
        "dic_zy"
      ],
      "execution_count": null,
      "outputs": [
        {
          "output_type": "execute_result",
          "data": {
            "text/plain": [
              "{'a': 3, 'b': 'xx', 'c': 99, 'chave99': 88}"
            ]
          },
          "metadata": {
            "tags": []
          },
          "execution_count": 31
        }
      ]
    },
    {
      "cell_type": "code",
      "metadata": {
        "id": "3jRpHqMJaPlQ"
      },
      "source": [
        "# Exercício 8 - Crie um dicionário com 3 chaves e 3 valores. Um dos valores deve ser uma lista de 2 elementos numéricos. \n",
        "# Imprima o dicionário na tela."
      ],
      "execution_count": null,
      "outputs": []
    },
    {
      "cell_type": "code",
      "metadata": {
        "id": "mz2b6ZRHaPnr"
      },
      "source": [
        "dic_yy = {'chave1':44, 'chave2':22, 'chave3':[66,33]}"
      ],
      "execution_count": null,
      "outputs": []
    },
    {
      "cell_type": "code",
      "metadata": {
        "id": "5Uhhl_1ZaPqO",
        "colab": {
          "base_uri": "https://localhost:8080/"
        },
        "outputId": "dfa7b49b-9b55-4f91-a5f9-bdefae4856d7"
      },
      "source": [
        "dic_yy"
      ],
      "execution_count": null,
      "outputs": [
        {
          "output_type": "execute_result",
          "data": {
            "text/plain": [
              "{'chave1': 44, 'chave2': 22, 'chave3': [66, 33]}"
            ]
          },
          "metadata": {
            "tags": []
          },
          "execution_count": 29
        }
      ]
    },
    {
      "cell_type": "markdown",
      "metadata": {
        "id": "kc4IWraKEJ-t"
      },
      "source": [
        "**CONDICIONAIS IF(SE)        ELSE(SENAO)**\n",
        "\n",
        "O CONDICIONAL IF PERMITE DIZER O COMPUTADOR PARA EXECULTAR AÇÕES COM BASE EM UM DETERMINADO CONJUNTO DE RESULTADOS"
      ]
    },
    {
      "cell_type": "code",
      "metadata": {
        "id": "t2IqcdlcaPs7",
        "colab": {
          "base_uri": "https://localhost:8080/"
        },
        "outputId": "64c60bff-4c39-4780-a370-45a7b83270c2"
      },
      "source": [
        "# Condicional If\n",
        "if 5 > 2:\n",
        "    print(\"Python funciona!\")"
      ],
      "execution_count": null,
      "outputs": [
        {
          "output_type": "stream",
          "text": [
            "Python funciona!\n"
          ],
          "name": "stdout"
        }
      ]
    },
    {
      "cell_type": "code",
      "metadata": {
        "id": "bwmB5UtAaPvf",
        "colab": {
          "base_uri": "https://localhost:8080/"
        },
        "outputId": "77b08db1-5e73-4a07-b428-aa11fcb425c2"
      },
      "source": [
        "# Statement If...Else\n",
        "if 5 < 2:\n",
        "   print(\"Python funciona!\")\n",
        "else:\n",
        "   print(\"Algo está errado!\")"
      ],
      "execution_count": null,
      "outputs": [
        {
          "output_type": "stream",
          "text": [
            "Algo está errado!\n"
          ],
          "name": "stdout"
        }
      ]
    },
    {
      "cell_type": "code",
      "metadata": {
        "id": "kb4oNciRaPzu",
        "colab": {
          "base_uri": "https://localhost:8080/"
        },
        "outputId": "6d85f6f4-e712-497e-935f-bc375d815e1b"
      },
      "source": [
        "6 > 3"
      ],
      "execution_count": null,
      "outputs": [
        {
          "output_type": "execute_result",
          "data": {
            "text/plain": [
              "True"
            ]
          },
          "metadata": {
            "tags": []
          },
          "execution_count": 34
        }
      ]
    },
    {
      "cell_type": "code",
      "metadata": {
        "id": "x3wzMiHraP2g",
        "colab": {
          "base_uri": "https://localhost:8080/"
        },
        "outputId": "ef59950f-f7e3-4c52-fed4-a63b402ba1cf"
      },
      "source": [
        "3 > 7"
      ],
      "execution_count": null,
      "outputs": [
        {
          "output_type": "execute_result",
          "data": {
            "text/plain": [
              "False"
            ]
          },
          "metadata": {
            "tags": []
          },
          "execution_count": 35
        }
      ]
    },
    {
      "cell_type": "code",
      "metadata": {
        "id": "-Z5F5gq8aP4-",
        "colab": {
          "base_uri": "https://localhost:8080/"
        },
        "outputId": "244ffdb1-344a-47a0-fc9f-fab9458738f9"
      },
      "source": [
        "4 < 8"
      ],
      "execution_count": null,
      "outputs": [
        {
          "output_type": "execute_result",
          "data": {
            "text/plain": [
              "True"
            ]
          },
          "metadata": {
            "tags": []
          },
          "execution_count": 36
        }
      ]
    },
    {
      "cell_type": "code",
      "metadata": {
        "id": "f_z3hVmxaP7f",
        "colab": {
          "base_uri": "https://localhost:8080/"
        },
        "outputId": "301b9b7e-67fd-437b-9dc5-b8d5e0afc2cd"
      },
      "source": [
        "4 >= 4"
      ],
      "execution_count": null,
      "outputs": [
        {
          "output_type": "execute_result",
          "data": {
            "text/plain": [
              "True"
            ]
          },
          "metadata": {
            "tags": []
          },
          "execution_count": 37
        }
      ]
    },
    {
      "cell_type": "code",
      "metadata": {
        "id": "LOOZvPScaP-g",
        "colab": {
          "base_uri": "https://localhost:8080/"
        },
        "outputId": "f3dac268-6bc2-4781-ceec-f19fcb81777f"
      },
      "source": [
        "if 5 == 5:\n",
        "  print(\"Testando Python!\")"
      ],
      "execution_count": null,
      "outputs": [
        {
          "output_type": "stream",
          "text": [
            "Testando Python!\n"
          ],
          "name": "stdout"
        }
      ]
    },
    {
      "cell_type": "code",
      "metadata": {
        "id": "TOv1nAxJaQBy",
        "colab": {
          "base_uri": "https://localhost:8080/"
        },
        "outputId": "acf44e5a-90c2-450b-d370-3341e086a6b6"
      },
      "source": [
        "if True:\n",
        "    print('Parece que Python funciona!')"
      ],
      "execution_count": null,
      "outputs": [
        {
          "output_type": "stream",
          "text": [
            "Parece que Python funciona!\n"
          ],
          "name": "stdout"
        }
      ]
    },
    {
      "cell_type": "markdown",
      "metadata": {
        "id": "W9KkdZ6RHXpZ"
      },
      "source": [
        "### Condicionais Aninhados"
      ]
    },
    {
      "cell_type": "code",
      "metadata": {
        "id": "DG--O4g7aQG7",
        "colab": {
          "base_uri": "https://localhost:8080/"
        },
        "outputId": "13d7af72-f290-4a6f-b3b6-e6eff6e5a4c5"
      },
      "source": [
        "idade = 18\n",
        "if idade > 17:\n",
        "   print(\"Você pode dirigir!\")"
      ],
      "execution_count": null,
      "outputs": [
        {
          "output_type": "stream",
          "text": [
            "Você pode dirigir!\n"
          ],
          "name": "stdout"
        }
      ]
    },
    {
      "cell_type": "code",
      "metadata": {
        "id": "Qqv1CXUXaQJh",
        "colab": {
          "base_uri": "https://localhost:8080/"
        },
        "outputId": "a84b499d-1da8-48cd-82cf-dc75d2506266"
      },
      "source": [
        "Nome = \"Bob\"\n",
        "if idade > 13:\n",
        " if Nome == \"Bob\":\n",
        "   print(\"Ok Bob, você está autorizado a entrar!\")\n",
        " else:\n",
        "   print(\"Desculpe, mas você não pode entrar!\")"
      ],
      "execution_count": null,
      "outputs": [
        {
          "output_type": "stream",
          "text": [
            "Ok Bob, você está autorizado a entrar!\n"
          ],
          "name": "stdout"
        }
      ]
    },
    {
      "cell_type": "code",
      "metadata": {
        "id": "d81x2vcwaQMJ",
        "colab": {
          "base_uri": "https://localhost:8080/"
        },
        "outputId": "754f143d-8e1d-4bf7-dd9d-febf3859a803"
      },
      "source": [
        "idade = 13\n",
        "Nome = \"Bob\"\n",
        "if idade >= 13 and Nome == \"Bob\":\n",
        "    print(\"Ok Bob, você está autorizado a entrar!\")"
      ],
      "execution_count": null,
      "outputs": [
        {
          "output_type": "stream",
          "text": [
            "Ok Bob, você está autorizado a entrar!\n"
          ],
          "name": "stdout"
        }
      ]
    },
    {
      "cell_type": "code",
      "metadata": {
        "id": "bh3PwYlqaQOw",
        "colab": {
          "base_uri": "https://localhost:8080/"
        },
        "outputId": "34f23458-0d11-4df1-c631-4b7647af001e"
      },
      "source": [
        "idade = 12\n",
        "Nome = \"Bob\"\n",
        "if (idade >= 13) or (Nome == \"Bob\"):\n",
        "    print(\"Ok Bob, você está autorizado a entrar!\")"
      ],
      "execution_count": null,
      "outputs": [
        {
          "output_type": "stream",
          "text": [
            "Ok Bob, você está autorizado a entrar!\n"
          ],
          "name": "stdout"
        }
      ]
    },
    {
      "cell_type": "markdown",
      "metadata": {
        "id": "YMA7bBZCk4of"
      },
      "source": [
        "**ESTRUTURA DE REPETIÇÃO**\n",
        "\n",
        "LOOP FOR\n",
        "\n",
        "PODEMOS UTILIZAR O LOOP FOR EM OBJETOS SEQUENCIAIS COMO:\n",
        "  STRINGS\n",
        "  LISTAS\n",
        "  TUPLAS\n",
        "  ELEMENTOS DE DICIONÁRIO\n",
        "  ARQUIVOS"
      ]
    },
    {
      "cell_type": "code",
      "metadata": {
        "id": "wdAD9BH2aQRj",
        "colab": {
          "base_uri": "https://localhost:8080/"
        },
        "outputId": "5147b2bc-4fe2-457d-886e-9eedc619d9c3"
      },
      "source": [
        "#CRIANDO UMA TUPLA E IMPRIMINDO CADA UM DOS VALORES\n",
        "tp = (2,3,4)\n",
        "for i in tp:\n",
        "    print(i)"
      ],
      "execution_count": 3,
      "outputs": [
        {
          "output_type": "stream",
          "text": [
            "2\n",
            "3\n",
            "4\n"
          ],
          "name": "stdout"
        }
      ]
    },
    {
      "cell_type": "code",
      "metadata": {
        "id": "sW6Lg75jaQUS",
        "colab": {
          "base_uri": "https://localhost:8080/"
        },
        "outputId": "bb45dd77-a5bf-4d3a-cde9-cd76c88dc0d3"
      },
      "source": [
        "# Criando uma TUPLA e imprimindo cada um dos valores\n",
        "for contador in range(0,5):\n",
        "    print(contador)"
      ],
      "execution_count": 5,
      "outputs": [
        {
          "output_type": "stream",
          "text": [
            "0\n",
            "1\n",
            "2\n",
            "3\n",
            "4\n"
          ],
          "name": "stdout"
        }
      ]
    },
    {
      "cell_type": "code",
      "metadata": {
        "id": "4-X-5AcyaQYc",
        "colab": {
          "base_uri": "https://localhost:8080/"
        },
        "outputId": "bf648aaa-ba41-428a-95c3-fb359d75f063"
      },
      "source": [
        "# Criando uma LISTA e imprimindo cada um dos valores\n",
        "listaDomercado = [\"frutas\", \"mel\", \"pao\"]\n",
        "for i in listaDomercado:\n",
        "    print(i)"
      ],
      "execution_count": 6,
      "outputs": [
        {
          "output_type": "stream",
          "text": [
            "frutas\n",
            "mel\n",
            "pao\n"
          ],
          "name": "stdout"
        }
      ]
    },
    {
      "cell_type": "code",
      "metadata": {
        "id": "rzGb1vPOaQa-",
        "colab": {
          "base_uri": "https://localhost:8080/"
        },
        "outputId": "7fe58f30-ba4d-40f7-d35c-0452665ecf1b"
      },
      "source": [
        "# Imprimindo os valores no intervalo entre 0 e 5 (exclusive)\n",
        "for contador in range(0,33):\n",
        "    print(contador)"
      ],
      "execution_count": 9,
      "outputs": [
        {
          "output_type": "stream",
          "text": [
            "0\n",
            "1\n",
            "2\n",
            "3\n",
            "4\n",
            "5\n",
            "6\n",
            "7\n",
            "8\n",
            "9\n",
            "10\n",
            "11\n",
            "12\n",
            "13\n",
            "14\n",
            "15\n",
            "16\n",
            "17\n",
            "18\n",
            "19\n",
            "20\n",
            "21\n",
            "22\n",
            "23\n",
            "24\n",
            "25\n",
            "26\n",
            "27\n",
            "28\n",
            "29\n",
            "30\n",
            "31\n",
            "32\n"
          ],
          "name": "stdout"
        }
      ]
    },
    {
      "cell_type": "code",
      "metadata": {
        "id": "5soET5kTaQee",
        "colab": {
          "base_uri": "https://localhost:8080/"
        },
        "outputId": "61f0a565-92b8-455b-e974-ab70e858a730"
      },
      "source": [
        "# Imprimindo na tela os números pares da lista de números\n",
        "lista = [1,2,3,4,5,6,7,8,9,10]\n",
        "for num in lista:\n",
        "    if num % 2 == 0:\n",
        "        print (num)"
      ],
      "execution_count": 12,
      "outputs": [
        {
          "output_type": "stream",
          "text": [
            "2\n",
            "4\n",
            "6\n",
            "8\n",
            "10\n"
          ],
          "name": "stdout"
        }
      ]
    },
    {
      "cell_type": "code",
      "metadata": {
        "id": "V_qqWQ9paRHD",
        "colab": {
          "base_uri": "https://localhost:8080/"
        },
        "outputId": "c87a9b4f-31e4-4817-8513-3c4a093a92bc"
      },
      "source": [
        "# Listando os números no intervalo entre 0 e 101, com incremento em 2\n",
        "for i in range(0,101,2):  \n",
        "    print(i)"
      ],
      "execution_count": 13,
      "outputs": [
        {
          "output_type": "stream",
          "text": [
            "0\n",
            "2\n",
            "4\n",
            "6\n",
            "8\n",
            "10\n",
            "12\n",
            "14\n",
            "16\n",
            "18\n",
            "20\n",
            "22\n",
            "24\n",
            "26\n",
            "28\n",
            "30\n",
            "32\n",
            "34\n",
            "36\n",
            "38\n",
            "40\n",
            "42\n",
            "44\n",
            "46\n",
            "48\n",
            "50\n",
            "52\n",
            "54\n",
            "56\n",
            "58\n",
            "60\n",
            "62\n",
            "64\n",
            "66\n",
            "68\n",
            "70\n",
            "72\n",
            "74\n",
            "76\n",
            "78\n",
            "80\n",
            "82\n",
            "84\n",
            "86\n",
            "88\n",
            "90\n",
            "92\n",
            "94\n",
            "96\n",
            "98\n",
            "100\n"
          ],
          "name": "stdout"
        }
      ]
    },
    {
      "cell_type": "code",
      "metadata": {
        "id": "nlh5PM2FaRJ4",
        "colab": {
          "base_uri": "https://localhost:8080/"
        },
        "outputId": "c5f9e13f-ea2a-401a-d92a-f02a3fe23736"
      },
      "source": [
        "# Strings também são sequências\n",
        "for caracter in 'Python é uma linguagem de programação divertida!':\n",
        "    print (caracter)"
      ],
      "execution_count": 14,
      "outputs": [
        {
          "output_type": "stream",
          "text": [
            "P\n",
            "y\n",
            "t\n",
            "h\n",
            "o\n",
            "n\n",
            " \n",
            "é\n",
            " \n",
            "u\n",
            "m\n",
            "a\n",
            " \n",
            "l\n",
            "i\n",
            "n\n",
            "g\n",
            "u\n",
            "a\n",
            "g\n",
            "e\n",
            "m\n",
            " \n",
            "d\n",
            "e\n",
            " \n",
            "p\n",
            "r\n",
            "o\n",
            "g\n",
            "r\n",
            "a\n",
            "m\n",
            "a\n",
            "ç\n",
            "ã\n",
            "o\n",
            " \n",
            "d\n",
            "i\n",
            "v\n",
            "e\n",
            "r\n",
            "t\n",
            "i\n",
            "d\n",
            "a\n",
            "!\n"
          ],
          "name": "stdout"
        }
      ]
    },
    {
      "cell_type": "code",
      "metadata": {
        "id": "pBoQU4P2aRND"
      },
      "source": [
        ""
      ],
      "execution_count": null,
      "outputs": []
    },
    {
      "cell_type": "code",
      "metadata": {
        "id": "bhijmBvkaRP5"
      },
      "source": [
        ""
      ],
      "execution_count": null,
      "outputs": []
    },
    {
      "cell_type": "code",
      "metadata": {
        "id": "HcYwATY95vJp"
      },
      "source": [
        ""
      ],
      "execution_count": null,
      "outputs": []
    },
    {
      "cell_type": "code",
      "metadata": {
        "id": "LaZVHFnZ5vNB"
      },
      "source": [
        ""
      ],
      "execution_count": null,
      "outputs": []
    }
  ]
}