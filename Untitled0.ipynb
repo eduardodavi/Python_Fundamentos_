{
  "nbformat": 4,
  "nbformat_minor": 0,
  "metadata": {
    "colab": {
      "name": "Untitled0.ipynb",
      "provenance": [],
      "collapsed_sections": [],
      "authorship_tag": "ABX9TyPFRmMNvWEaNcbf1awQGgQJ",
      "include_colab_link": true
    },
    "kernelspec": {
      "name": "python3",
      "display_name": "Python 3"
    },
    "language_info": {
      "name": "python"
    }
  },
  "cells": [
    {
      "cell_type": "markdown",
      "metadata": {
        "id": "view-in-github",
        "colab_type": "text"
      },
      "source": [
        "<a href=\"https://colab.research.google.com/github/eduardodavi/Python_Fundamentos_/blob/main/Untitled0.ipynb\" target=\"_parent\"><img src=\"https://colab.research.google.com/assets/colab-badge.svg\" alt=\"Open In Colab\"/></a>"
      ]
    },
    {
      "cell_type": "code",
      "metadata": {
        "id": "V_eaz2W2W5_q"
      },
      "source": [
        ""
      ],
      "execution_count": null,
      "outputs": []
    },
    {
      "cell_type": "markdown",
      "metadata": {
        "id": "YvkVL2pNW_DL"
      },
      "source": [
        "**Python Fundamentos - Data Science Academy**"
      ]
    },
    {
      "cell_type": "markdown",
      "metadata": {
        "id": "pfeFd-DFX9-z"
      },
      "source": [
        "Variáveis e Operadores"
      ]
    },
    {
      "cell_type": "code",
      "metadata": {
        "id": "8DyIp2OZW_26"
      },
      "source": [
        "#ATRIBUINDO O VALOR 2 A UMA VARIÁVEL\n",
        "var_teste = 2"
      ],
      "execution_count": 2,
      "outputs": []
    },
    {
      "cell_type": "code",
      "metadata": {
        "colab": {
          "base_uri": "https://localhost:8080/"
        },
        "id": "49AN1S9zXAR1",
        "outputId": "3e08d6bb-e85a-4b40-c312-121c8f47f68a"
      },
      "source": [
        "#IMPRIMINDO O VALOR DA VARIÁVEL\n",
        "var_teste"
      ],
      "execution_count": 4,
      "outputs": [
        {
          "output_type": "execute_result",
          "data": {
            "text/plain": [
              "2"
            ]
          },
          "metadata": {
            "tags": []
          },
          "execution_count": 4
        }
      ]
    },
    {
      "cell_type": "code",
      "metadata": {
        "colab": {
          "base_uri": "https://localhost:8080/"
        },
        "id": "4Q18FMUYXATE",
        "outputId": "3e55c660-d79b-4b74-bcc8-fdd7768f2a69"
      },
      "source": [
        "#OUTRA FORMA DE IMPRIMIR\n",
        "print(var_teste)"
      ],
      "execution_count": 5,
      "outputs": [
        {
          "output_type": "stream",
          "text": [
            "2\n"
          ],
          "name": "stdout"
        }
      ]
    },
    {
      "cell_type": "code",
      "metadata": {
        "colab": {
          "base_uri": "https://localhost:8080/"
        },
        "id": "XHZhnZlxpFlU",
        "outputId": "ca19fcaa-5b60-48a7-f6a2-a8857d1d1274"
      },
      "source": [
        "#VERIFICANDO O TIPO DA VARIÁVEL\n",
        "type(var_teste)"
      ],
      "execution_count": 6,
      "outputs": [
        {
          "output_type": "execute_result",
          "data": {
            "text/plain": [
              "int"
            ]
          },
          "metadata": {
            "tags": []
          },
          "execution_count": 6
        }
      ]
    },
    {
      "cell_type": "code",
      "metadata": {
        "id": "jF1TELS2pFnn"
      },
      "source": [
        "#DEFININDO UMA VARIÁVEL TIPO FLOAR\n",
        "var_teste1 = 9.5"
      ],
      "execution_count": 7,
      "outputs": []
    },
    {
      "cell_type": "code",
      "metadata": {
        "colab": {
          "base_uri": "https://localhost:8080/"
        },
        "id": "nU6coWAjpFpZ",
        "outputId": "2c2ad56f-9b51-47d4-8ad5-ae1e9c8ae4ea"
      },
      "source": [
        "#VERIFICANDO O TIPO DA VARIÁVEL\n",
        "type(var_teste1)"
      ],
      "execution_count": 8,
      "outputs": [
        {
          "output_type": "execute_result",
          "data": {
            "text/plain": [
              "float"
            ]
          },
          "metadata": {
            "tags": []
          },
          "execution_count": 8
        }
      ]
    },
    {
      "cell_type": "markdown",
      "metadata": {
        "id": "a91TiUu4qsmC"
      },
      "source": [
        "**DECLARAÇÃO MULTIPLA**"
      ]
    },
    {
      "cell_type": "code",
      "metadata": {
        "id": "mP1KGmnApFtJ"
      },
      "source": [
        "pessoa1, pessoa2, pessoa3 = \"David\", \"Eduardo\", \"Marques\""
      ],
      "execution_count": 9,
      "outputs": []
    },
    {
      "cell_type": "code",
      "metadata": {
        "colab": {
          "base_uri": "https://localhost:8080/",
          "height": 35
        },
        "id": "qqM8eeEkpFvu",
        "outputId": "134bbbf2-3e5d-4a74-b38f-2d5af236c098"
      },
      "source": [
        "pessoa1"
      ],
      "execution_count": 10,
      "outputs": [
        {
          "output_type": "execute_result",
          "data": {
            "application/vnd.google.colaboratory.intrinsic+json": {
              "type": "string"
            },
            "text/plain": [
              "'David'"
            ]
          },
          "metadata": {
            "tags": []
          },
          "execution_count": 10
        }
      ]
    },
    {
      "cell_type": "code",
      "metadata": {
        "colab": {
          "base_uri": "https://localhost:8080/",
          "height": 35
        },
        "id": "5rWqaPkVpFxl",
        "outputId": "14d51055-d13d-478d-e5ba-0971570e05b6"
      },
      "source": [
        "pessoa2"
      ],
      "execution_count": 11,
      "outputs": [
        {
          "output_type": "execute_result",
          "data": {
            "application/vnd.google.colaboratory.intrinsic+json": {
              "type": "string"
            },
            "text/plain": [
              "'Eduardo'"
            ]
          },
          "metadata": {
            "tags": []
          },
          "execution_count": 11
        }
      ]
    },
    {
      "cell_type": "code",
      "metadata": {
        "colab": {
          "base_uri": "https://localhost:8080/",
          "height": 35
        },
        "id": "04d1MP_bpF0Q",
        "outputId": "cbaca63c-261f-40e4-ae91-7229e507608b"
      },
      "source": [
        "pessoa3"
      ],
      "execution_count": 12,
      "outputs": [
        {
          "output_type": "execute_result",
          "data": {
            "application/vnd.google.colaboratory.intrinsic+json": {
              "type": "string"
            },
            "text/plain": [
              "'Marques'"
            ]
          },
          "metadata": {
            "tags": []
          },
          "execution_count": 12
        }
      ]
    },
    {
      "cell_type": "code",
      "metadata": {
        "id": "Sc07Jef0pF2i"
      },
      "source": [
        "#DECLARAÇÃO MULTIPLA COM SINAL DE ATRIBUIÇÃO\n",
        "fruta1 = fruta2 = fruta3 = \"Laranja\""
      ],
      "execution_count": 13,
      "outputs": []
    },
    {
      "cell_type": "code",
      "metadata": {
        "colab": {
          "base_uri": "https://localhost:8080/",
          "height": 35
        },
        "id": "Mzu0cKEwpF5J",
        "outputId": "a95ed3eb-fcda-4d0a-8332-3f7d7a67397e"
      },
      "source": [
        "fruta1"
      ],
      "execution_count": 14,
      "outputs": [
        {
          "output_type": "execute_result",
          "data": {
            "application/vnd.google.colaboratory.intrinsic+json": {
              "type": "string"
            },
            "text/plain": [
              "'Laranja'"
            ]
          },
          "metadata": {
            "tags": []
          },
          "execution_count": 14
        }
      ]
    },
    {
      "cell_type": "code",
      "metadata": {
        "colab": {
          "base_uri": "https://localhost:8080/",
          "height": 35
        },
        "id": "ZXjnW92npF7i",
        "outputId": "4621dfc1-10dd-4f7c-9319-d3aedaedb428"
      },
      "source": [
        "fruta2"
      ],
      "execution_count": 15,
      "outputs": [
        {
          "output_type": "execute_result",
          "data": {
            "application/vnd.google.colaboratory.intrinsic+json": {
              "type": "string"
            },
            "text/plain": [
              "'Laranja'"
            ]
          },
          "metadata": {
            "tags": []
          },
          "execution_count": 15
        }
      ]
    },
    {
      "cell_type": "markdown",
      "metadata": {
        "id": "h0rxbmjBtNkS"
      },
      "source": [
        "NÃO SE PODE USAR PALAVRAS RESERVADAS COMO NOME DE VARIÁVEL\n",
        "\n",
        "False\n",
        "class\n",
        "finally\n",
        "is\n",
        "return\n",
        "none\n",
        "continue\n",
        "for \n",
        "lambda\n",
        "try\n",
        "True\n",
        "def\n",
        "from\n",
        "nonlocal\n",
        "while\n",
        "and\n",
        "del\n",
        "global\n",
        "not\n",
        "with\n",
        "as\n",
        "elif\n",
        "if\n",
        "or\n",
        "yield\n",
        "assert\n",
        "else\n",
        "import\n",
        "pass\n",
        "break\n",
        "except\n",
        "in\n",
        "raise"
      ]
    },
    {
      "cell_type": "markdown",
      "metadata": {
        "id": "6Kx3wqnoxVqh"
      },
      "source": [
        "**VARIÁVEIS ATRIBUÍDAS A OUTRAS VARIÁVEIS E ORDEM DOS OPERADORES**"
      ]
    },
    {
      "cell_type": "code",
      "metadata": {
        "id": "yK2GaQH-pF_r"
      },
      "source": [
        "largura = 2 "
      ],
      "execution_count": 16,
      "outputs": []
    },
    {
      "cell_type": "code",
      "metadata": {
        "id": "zdI_rZuHpGEW"
      },
      "source": [
        "altura = 5"
      ],
      "execution_count": 17,
      "outputs": []
    },
    {
      "cell_type": "code",
      "metadata": {
        "id": "A0IAnc-MpGKB"
      },
      "source": [
        "area = largura * altura"
      ],
      "execution_count": 18,
      "outputs": []
    },
    {
      "cell_type": "code",
      "metadata": {
        "colab": {
          "base_uri": "https://localhost:8080/"
        },
        "id": "ZGjoJh00pGLZ",
        "outputId": "7690c3b5-2e84-4502-c51e-e5e48ace3b13"
      },
      "source": [
        "area"
      ],
      "execution_count": 19,
      "outputs": [
        {
          "output_type": "execute_result",
          "data": {
            "text/plain": [
              "10"
            ]
          },
          "metadata": {
            "tags": []
          },
          "execution_count": 19
        }
      ]
    },
    {
      "cell_type": "code",
      "metadata": {
        "id": "b2enThn-pGM3"
      },
      "source": [
        "perimetro = 2 * largura + 2 * altura"
      ],
      "execution_count": 20,
      "outputs": []
    },
    {
      "cell_type": "code",
      "metadata": {
        "colab": {
          "base_uri": "https://localhost:8080/"
        },
        "id": "UXaVLmwOpGOe",
        "outputId": "1cc36794-883d-4160-dc26-2e92beff5f83"
      },
      "source": [
        "perimetro"
      ],
      "execution_count": 21,
      "outputs": [
        {
          "output_type": "execute_result",
          "data": {
            "text/plain": [
              "14"
            ]
          },
          "metadata": {
            "tags": []
          },
          "execution_count": 21
        }
      ]
    },
    {
      "cell_type": "code",
      "metadata": {
        "id": "zWD3kzblpGQl"
      },
      "source": [
        "#A ODEM DAS OPERAÇÕES DEVE SER A MESMA DA MATEMATICA\n",
        "perimetro = 2 * (largura + 2) * altura"
      ],
      "execution_count": 22,
      "outputs": []
    },
    {
      "cell_type": "code",
      "metadata": {
        "colab": {
          "base_uri": "https://localhost:8080/"
        },
        "id": "QcxgW4r7pGTg",
        "outputId": "ed9179d9-4004-436f-bbef-e27ff3a5a192"
      },
      "source": [
        "perimetro"
      ],
      "execution_count": 23,
      "outputs": [
        {
          "output_type": "execute_result",
          "data": {
            "text/plain": [
              "40"
            ]
          },
          "metadata": {
            "tags": []
          },
          "execution_count": 23
        }
      ]
    },
    {
      "cell_type": "markdown",
      "metadata": {
        "id": "2a_7PLmpy20h"
      },
      "source": [
        "**OPERAÇÕES COM VARIÁVEIS**"
      ]
    },
    {
      "cell_type": "code",
      "metadata": {
        "id": "y_4tUL-CpGVf"
      },
      "source": [
        "idade1 = 25"
      ],
      "execution_count": 24,
      "outputs": []
    },
    {
      "cell_type": "code",
      "metadata": {
        "id": "5R1KmLxLpGYX"
      },
      "source": [
        "idade2 = 40"
      ],
      "execution_count": 25,
      "outputs": []
    },
    {
      "cell_type": "code",
      "metadata": {
        "colab": {
          "base_uri": "https://localhost:8080/"
        },
        "id": "PNqz2hY2pGba",
        "outputId": "8a243d0e-fdaf-421c-9283-7cb442405546"
      },
      "source": [
        "idade1 + idade2"
      ],
      "execution_count": 26,
      "outputs": [
        {
          "output_type": "execute_result",
          "data": {
            "text/plain": [
              "65"
            ]
          },
          "metadata": {
            "tags": []
          },
          "execution_count": 26
        }
      ]
    },
    {
      "cell_type": "code",
      "metadata": {
        "colab": {
          "base_uri": "https://localhost:8080/"
        },
        "id": "eZOkTuZopGfG",
        "outputId": "671f9eaf-14e3-4616-8f1b-b3d9190bb1ca"
      },
      "source": [
        "idade1 - idade2"
      ],
      "execution_count": 27,
      "outputs": [
        {
          "output_type": "execute_result",
          "data": {
            "text/plain": [
              "-15"
            ]
          },
          "metadata": {
            "tags": []
          },
          "execution_count": 27
        }
      ]
    },
    {
      "cell_type": "code",
      "metadata": {
        "colab": {
          "base_uri": "https://localhost:8080/"
        },
        "id": "kdS3XyK8pGg9",
        "outputId": "e29d6c48-97e3-4597-d080-d4f426dae24e"
      },
      "source": [
        "idade1 * idade2"
      ],
      "execution_count": 28,
      "outputs": [
        {
          "output_type": "execute_result",
          "data": {
            "text/plain": [
              "1000"
            ]
          },
          "metadata": {
            "tags": []
          },
          "execution_count": 28
        }
      ]
    },
    {
      "cell_type": "code",
      "metadata": {
        "colab": {
          "base_uri": "https://localhost:8080/"
        },
        "id": "iB7iQGGh0XZ4",
        "outputId": "bbeaff29-b305-4945-e804-911a4c461440"
      },
      "source": [
        "idade1 / idade2"
      ],
      "execution_count": 33,
      "outputs": [
        {
          "output_type": "execute_result",
          "data": {
            "text/plain": [
              "0.625"
            ]
          },
          "metadata": {
            "tags": []
          },
          "execution_count": 33
        }
      ]
    },
    {
      "cell_type": "code",
      "metadata": {
        "colab": {
          "base_uri": "https://localhost:8080/"
        },
        "id": "hLr50WDj0Xpd",
        "outputId": "5f156ca1-c294-44e5-c549-60bea46bb7ce"
      },
      "source": [
        "idade1 % idade2"
      ],
      "execution_count": 34,
      "outputs": [
        {
          "output_type": "execute_result",
          "data": {
            "text/plain": [
              "25"
            ]
          },
          "metadata": {
            "tags": []
          },
          "execution_count": 34
        }
      ]
    },
    {
      "cell_type": "markdown",
      "metadata": {
        "id": "e2vgKdizz2GM"
      },
      "source": [
        "**CONCATENAÇÃO DAS VARIÁVEIS**"
      ]
    },
    {
      "cell_type": "code",
      "metadata": {
        "id": "LSiat9ZUpGjz"
      },
      "source": [
        "nome = \"David\""
      ],
      "execution_count": 29,
      "outputs": []
    },
    {
      "cell_type": "code",
      "metadata": {
        "id": "q5gBzZNFpGnL"
      },
      "source": [
        "sobrenome = \"Marques\""
      ],
      "execution_count": 30,
      "outputs": []
    },
    {
      "cell_type": "code",
      "metadata": {
        "id": "xHFDBvInpGpv"
      },
      "source": [
        "fullname = nome + \" \" + sobrenome"
      ],
      "execution_count": 31,
      "outputs": []
    },
    {
      "cell_type": "code",
      "metadata": {
        "colab": {
          "base_uri": "https://localhost:8080/",
          "height": 35
        },
        "id": "91_KqkwrpGtO",
        "outputId": "04e6e1b6-ae80-43a4-ffb4-9ccaaf64e064"
      },
      "source": [
        "fullname"
      ],
      "execution_count": 32,
      "outputs": [
        {
          "output_type": "execute_result",
          "data": {
            "application/vnd.google.colaboratory.intrinsic+json": {
              "type": "string"
            },
            "text/plain": [
              "'David Marques'"
            ]
          },
          "metadata": {
            "tags": []
          },
          "execution_count": 32
        }
      ]
    },
    {
      "cell_type": "markdown",
      "metadata": {
        "id": "w474WG5g2PEF"
      },
      "source": [
        "**STRINGS**"
      ]
    },
    {
      "cell_type": "markdown",
      "metadata": {
        "id": "-9bgVBBi5G0q"
      },
      "source": [
        "STRING É UMA SEQUENCIA IMUTÁVEL DE CARACTERES OU APENAS 1 CARACTER - PYTHON PODE USAR ÍNDICES PARA CHAMAR PARTES DA SEQUENCIA "
      ]
    },
    {
      "cell_type": "markdown",
      "metadata": {
        "id": "SYg3Rp-S5hFk"
      },
      "source": [
        "EM PYTHON **USAMOS COLCHETES [ ] PARA REPRESENTAR O ÍNDICE DE UM OBJETO**\n",
        "\n",
        "A INDEXAÇÃO EM PYTHON COMEÇA POR ZERO\n",
        "\n",
        "PYTHON É UMA LINGUAGEM ORIENTADA A OBJETO\n",
        "\n",
        "PODE SE UTILIZAR AS SIMPLES '' OU DUPLAS \" \""
      ]
    },
    {
      "cell_type": "code",
      "metadata": {
        "id": "DHiGHh5wpGwI"
      },
      "source": [
        "texto = \"Python e Análise de Dados\""
      ],
      "execution_count": 35,
      "outputs": []
    },
    {
      "cell_type": "code",
      "metadata": {
        "colab": {
          "base_uri": "https://localhost:8080/",
          "height": 35
        },
        "id": "ZLfZ3zbepQw6",
        "outputId": "746e0f9d-0434-4708-e51a-14f8cd989261"
      },
      "source": [
        "texto[0]"
      ],
      "execution_count": 36,
      "outputs": [
        {
          "output_type": "execute_result",
          "data": {
            "application/vnd.google.colaboratory.intrinsic+json": {
              "type": "string"
            },
            "text/plain": [
              "'P'"
            ]
          },
          "metadata": {
            "tags": []
          },
          "execution_count": 36
        }
      ]
    },
    {
      "cell_type": "code",
      "metadata": {
        "colab": {
          "base_uri": "https://localhost:8080/",
          "height": 35
        },
        "id": "jVb72Fg0pQye",
        "outputId": "5537788e-dcc2-4eb3-e1bc-cd65e8d98772"
      },
      "source": [
        "texto[1]"
      ],
      "execution_count": 37,
      "outputs": [
        {
          "output_type": "execute_result",
          "data": {
            "application/vnd.google.colaboratory.intrinsic+json": {
              "type": "string"
            },
            "text/plain": [
              "'y'"
            ]
          },
          "metadata": {
            "tags": []
          },
          "execution_count": 37
        }
      ]
    },
    {
      "cell_type": "code",
      "metadata": {
        "colab": {
          "base_uri": "https://localhost:8080/",
          "height": 35
        },
        "id": "lB6a2RkRpQ1r",
        "outputId": "8f8bd61f-fcd4-430c-a33a-accc87932424"
      },
      "source": [
        "\"Python e Análise de Dados\""
      ],
      "execution_count": 42,
      "outputs": [
        {
          "output_type": "execute_result",
          "data": {
            "application/vnd.google.colaboratory.intrinsic+json": {
              "type": "string"
            },
            "text/plain": [
              "'Python e Análise de Dados'"
            ]
          },
          "metadata": {
            "tags": []
          },
          "execution_count": 42
        }
      ]
    },
    {
      "cell_type": "code",
      "metadata": {
        "id": "3pJCOpVhDzne"
      },
      "source": [
        "s = \"Ciência de Dados\""
      ],
      "execution_count": 52,
      "outputs": []
    },
    {
      "cell_type": "code",
      "metadata": {
        "colab": {
          "base_uri": "https://localhost:8080/",
          "height": 35
        },
        "id": "00eMxGmppRDK",
        "outputId": "3a84a794-14c2-4c3d-c421-cc4e54e5661f"
      },
      "source": [
        "#OS : PODEM SER USADOS PARA EXECULTAR UM SLICING QUE FAZ A LEITURA DE UM PONTO DESIGNADO\n",
        "s[:1]"
      ],
      "execution_count": 53,
      "outputs": [
        {
          "output_type": "execute_result",
          "data": {
            "application/vnd.google.colaboratory.intrinsic+json": {
              "type": "string"
            },
            "text/plain": [
              "'C'"
            ]
          },
          "metadata": {
            "tags": []
          },
          "execution_count": 53
        }
      ]
    },
    {
      "cell_type": "code",
      "metadata": {
        "colab": {
          "base_uri": "https://localhost:8080/",
          "height": 35
        },
        "id": "aZ7boS21XAVt",
        "outputId": "3572954b-3c87-4547-f2f4-5b8230b740e3"
      },
      "source": [
        "#A STRING ORIGINAL PERMANECE INALTERADA\n",
        "s"
      ],
      "execution_count": 54,
      "outputs": [
        {
          "output_type": "execute_result",
          "data": {
            "application/vnd.google.colaboratory.intrinsic+json": {
              "type": "string"
            },
            "text/plain": [
              "'Ciência de Dados'"
            ]
          },
          "metadata": {
            "tags": []
          },
          "execution_count": 54
        }
      ]
    },
    {
      "cell_type": "code",
      "metadata": {
        "colab": {
          "base_uri": "https://localhost:8080/",
          "height": 35
        },
        "id": "jIc7FpmlXAYG",
        "outputId": "1af23865-ecc1-4448-f2b2-31775f63e5b6"
      },
      "source": [
        "#RETORNA TUDO ATÉ A POSIÇÃO 3\n",
        "s[:3]"
      ],
      "execution_count": 55,
      "outputs": [
        {
          "output_type": "execute_result",
          "data": {
            "application/vnd.google.colaboratory.intrinsic+json": {
              "type": "string"
            },
            "text/plain": [
              "'Ciê'"
            ]
          },
          "metadata": {
            "tags": []
          },
          "execution_count": 55
        }
      ]
    },
    {
      "cell_type": "code",
      "metadata": {
        "colab": {
          "base_uri": "https://localhost:8080/",
          "height": 35
        },
        "id": "r44CAJK8XAa8",
        "outputId": "551e5582-8a6c-40e0-ad27-a58443f8d5f9"
      },
      "source": [
        "s[:]"
      ],
      "execution_count": 56,
      "outputs": [
        {
          "output_type": "execute_result",
          "data": {
            "application/vnd.google.colaboratory.intrinsic+json": {
              "type": "string"
            },
            "text/plain": [
              "'Ciência de Dados'"
            ]
          },
          "metadata": {
            "tags": []
          },
          "execution_count": 56
        }
      ]
    },
    {
      "cell_type": "code",
      "metadata": {
        "colab": {
          "base_uri": "https://localhost:8080/",
          "height": 35
        },
        "id": "8OYgoIxAEakW",
        "outputId": "78e7d0c3-e841-4df5-dfd2-752da8752dfd"
      },
      "source": [
        "#PODEMOS USAR A INDEXAÇÃO NEGATIVA PARA LER DE TRÁS PRA FRENTE\n",
        "s[-1]"
      ],
      "execution_count": 59,
      "outputs": [
        {
          "output_type": "execute_result",
          "data": {
            "application/vnd.google.colaboratory.intrinsic+json": {
              "type": "string"
            },
            "text/plain": [
              "'s'"
            ]
          },
          "metadata": {
            "tags": []
          },
          "execution_count": 59
        }
      ]
    },
    {
      "cell_type": "code",
      "metadata": {
        "colab": {
          "base_uri": "https://localhost:8080/",
          "height": 35
        },
        "id": "yPiQASeDEamo",
        "outputId": "726cd669-6ff9-4906-ae23-aaa957703303"
      },
      "source": [
        "#PODEMOS RETORNAR TUDO, EXCETO AS 3 ÚLTUMAS LETRAS\n",
        "s[:-3]"
      ],
      "execution_count": 60,
      "outputs": [
        {
          "output_type": "execute_result",
          "data": {
            "application/vnd.google.colaboratory.intrinsic+json": {
              "type": "string"
            },
            "text/plain": [
              "'Ciência de Da'"
            ]
          },
          "metadata": {
            "tags": []
          },
          "execution_count": 60
        }
      ]
    },
    {
      "cell_type": "markdown",
      "metadata": {
        "id": "RTHNOlaRF7E0"
      },
      "source": [
        "Também podemos usar a notação índice e fatiar a string em pedaços (o padrão é 1)"
      ]
    },
    {
      "cell_type": "code",
      "metadata": {
        "colab": {
          "base_uri": "https://localhost:8080/",
          "height": 35
        },
        "id": "jzM5sbayEaox",
        "outputId": "c65bd85b-f65b-4309-9ad7-2a4eede305e7"
      },
      "source": [
        "s[::1]"
      ],
      "execution_count": 63,
      "outputs": [
        {
          "output_type": "execute_result",
          "data": {
            "application/vnd.google.colaboratory.intrinsic+json": {
              "type": "string"
            },
            "text/plain": [
              "'Ciência de Dados'"
            ]
          },
          "metadata": {
            "tags": []
          },
          "execution_count": 63
        }
      ]
    },
    {
      "cell_type": "code",
      "metadata": {
        "colab": {
          "base_uri": "https://localhost:8080/",
          "height": 35
        },
        "id": "NhLMBSYTEar1",
        "outputId": "91c6de15-e587-4df1-a226-9e8b1426c3fc"
      },
      "source": [
        "#RETORNA A LETRA A CADA 2 POSIÇÕES\n",
        "s[::2]"
      ],
      "execution_count": 64,
      "outputs": [
        {
          "output_type": "execute_result",
          "data": {
            "application/vnd.google.colaboratory.intrinsic+json": {
              "type": "string"
            },
            "text/plain": [
              "'Cêcad ao'"
            ]
          },
          "metadata": {
            "tags": []
          },
          "execution_count": 64
        }
      ]
    },
    {
      "cell_type": "code",
      "metadata": {
        "colab": {
          "base_uri": "https://localhost:8080/",
          "height": 35
        },
        "id": "eI6SLssSEat7",
        "outputId": "34b725d7-9d9c-40e0-e3f2-6c736bb87a71"
      },
      "source": [
        "#RETORNA A LETRA A CADA 1 POSIÇÃO DE TRÁS PRA FRENTE\n",
        "s[::-1]"
      ],
      "execution_count": 65,
      "outputs": [
        {
          "output_type": "execute_result",
          "data": {
            "application/vnd.google.colaboratory.intrinsic+json": {
              "type": "string"
            },
            "text/plain": [
              "'sodaD ed aicnêiC'"
            ]
          },
          "metadata": {
            "tags": []
          },
          "execution_count": 65
        }
      ]
    },
    {
      "cell_type": "code",
      "metadata": {
        "colab": {
          "base_uri": "https://localhost:8080/",
          "height": 35
        },
        "id": "wTQYWo_JEavz",
        "outputId": "9b148e70-a231-47dd-d9bd-34f677a7a9a5"
      },
      "source": [
        "#RETORNA A LETRA A CADA 2 POSIÇÔES DE TRÁS PRA FRENTE\n",
        "s[::-2]"
      ],
      "execution_count": 66,
      "outputs": [
        {
          "output_type": "execute_result",
          "data": {
            "application/vnd.google.colaboratory.intrinsic+json": {
              "type": "string"
            },
            "text/plain": [
              "'sdDe ini'"
            ]
          },
          "metadata": {
            "tags": []
          },
          "execution_count": 66
        }
      ]
    },
    {
      "cell_type": "markdown",
      "metadata": {
        "id": "exJXXSOiHuyV"
      },
      "source": [
        "**PROPRIEDADES DA STRING**"
      ]
    },
    {
      "cell_type": "code",
      "metadata": {
        "colab": {
          "base_uri": "https://localhost:8080/",
          "height": 35
        },
        "id": "UK2-ffSuEazC",
        "outputId": "8907bc09-82a1-43a5-b7d2-e0cec7136b88"
      },
      "source": [
        "s"
      ],
      "execution_count": 67,
      "outputs": [
        {
          "output_type": "execute_result",
          "data": {
            "application/vnd.google.colaboratory.intrinsic+json": {
              "type": "string"
            },
            "text/plain": [
              "'Ciência de Dados'"
            ]
          },
          "metadata": {
            "tags": []
          },
          "execution_count": 67
        }
      ]
    },
    {
      "cell_type": "code",
      "metadata": {
        "colab": {
          "base_uri": "https://localhost:8080/",
          "height": 180
        },
        "id": "3hQN1GdiEa1n",
        "outputId": "c1ca7cca-80ee-4b33-e8a5-460df580bd12"
      },
      "source": [
        "#NÃO SE PODE ALTERAR UM CARACTER DE UMA STRING\n",
        "s [0] = \"x\""
      ],
      "execution_count": 69,
      "outputs": [
        {
          "output_type": "error",
          "ename": "TypeError",
          "evalue": "ignored",
          "traceback": [
            "\u001b[0;31m---------------------------------------------------------------------------\u001b[0m",
            "\u001b[0;31mTypeError\u001b[0m                                 Traceback (most recent call last)",
            "\u001b[0;32m<ipython-input-69-88df54ea7ee0>\u001b[0m in \u001b[0;36m<module>\u001b[0;34m()\u001b[0m\n\u001b[1;32m      1\u001b[0m \u001b[0;31m#ALTERANDO UM CARACTER DA STRING\u001b[0m\u001b[0;34m\u001b[0m\u001b[0;34m\u001b[0m\u001b[0;34m\u001b[0m\u001b[0m\n\u001b[0;32m----> 2\u001b[0;31m \u001b[0ms\u001b[0m \u001b[0;34m[\u001b[0m\u001b[0;36m0\u001b[0m\u001b[0;34m]\u001b[0m \u001b[0;34m=\u001b[0m \u001b[0;34m\"x\"\u001b[0m\u001b[0;34m\u001b[0m\u001b[0;34m\u001b[0m\u001b[0m\n\u001b[0m",
            "\u001b[0;31mTypeError\u001b[0m: 'str' object does not support item assignment"
          ]
        }
      ]
    },
    {
      "cell_type": "code",
      "metadata": {
        "colab": {
          "base_uri": "https://localhost:8080/",
          "height": 35
        },
        "id": "7uYv3qwpEbGa",
        "outputId": "9a118ae7-8a75-47dd-fa76-90dc0b687255"
      },
      "source": [
        "#CONCATENANDO STRINGS\n",
        "s + ' é vida'"
      ],
      "execution_count": 71,
      "outputs": [
        {
          "output_type": "execute_result",
          "data": {
            "application/vnd.google.colaboratory.intrinsic+json": {
              "type": "string"
            },
            "text/plain": [
              "'Ciência de Dados é vida'"
            ]
          },
          "metadata": {
            "tags": []
          },
          "execution_count": 71
        }
      ]
    },
    {
      "cell_type": "code",
      "metadata": {
        "id": "df-Z6xH2EbH9"
      },
      "source": [
        "#PODEMOS USAR O SÍMBOLO DE MULTIPLICAÇÃO PARA CRIAR UMA REPETIÇÃO\n",
        "letra = 'w'"
      ],
      "execution_count": 72,
      "outputs": []
    },
    {
      "cell_type": "code",
      "metadata": {
        "colab": {
          "base_uri": "https://localhost:8080/",
          "height": 35
        },
        "id": "5RCheqqFEbKF",
        "outputId": "6223541c-7ae6-43c6-d590-5d9bc5c95833"
      },
      "source": [
        "letra *3"
      ],
      "execution_count": 73,
      "outputs": [
        {
          "output_type": "execute_result",
          "data": {
            "application/vnd.google.colaboratory.intrinsic+json": {
              "type": "string"
            },
            "text/plain": [
              "'www'"
            ]
          },
          "metadata": {
            "tags": []
          },
          "execution_count": 73
        }
      ]
    },
    {
      "cell_type": "markdown",
      "metadata": {
        "id": "1v4qAeD0Jm-F"
      },
      "source": [
        "**FUNÇÕES BUILT-IN DE STRINGS**"
      ]
    },
    {
      "cell_type": "code",
      "metadata": {
        "colab": {
          "base_uri": "https://localhost:8080/",
          "height": 35
        },
        "id": "HsdbrZsEEbMr",
        "outputId": "60c45ba2-6c32-4022-ef67-d3099e1833c7"
      },
      "source": [
        "s"
      ],
      "execution_count": 74,
      "outputs": [
        {
          "output_type": "execute_result",
          "data": {
            "application/vnd.google.colaboratory.intrinsic+json": {
              "type": "string"
            },
            "text/plain": [
              "'Ciência de Dados'"
            ]
          },
          "metadata": {
            "tags": []
          },
          "execution_count": 74
        }
      ]
    },
    {
      "cell_type": "code",
      "metadata": {
        "colab": {
          "base_uri": "https://localhost:8080/",
          "height": 35
        },
        "id": "-onMinwxEbQT",
        "outputId": "1ceff299-b38b-4353-896b-472995b76c21"
      },
      "source": [
        "#UPPER CASE: PASSA A STRING PARA MAIÚSCULA\n",
        "s.upper()"
      ],
      "execution_count": 76,
      "outputs": [
        {
          "output_type": "execute_result",
          "data": {
            "application/vnd.google.colaboratory.intrinsic+json": {
              "type": "string"
            },
            "text/plain": [
              "'CIÊNCIA DE DADOS'"
            ]
          },
          "metadata": {
            "tags": []
          },
          "execution_count": 76
        }
      ]
    },
    {
      "cell_type": "code",
      "metadata": {
        "colab": {
          "base_uri": "https://localhost:8080/",
          "height": 35
        },
        "id": "suiGfnC1XAcv",
        "outputId": "3d89c785-dad1-4e36-e7fd-29ea36f64bcc"
      },
      "source": [
        "#LOWER CASE: PASSA A STRING PARA MINÚSCULA\n",
        "s.lower() "
      ],
      "execution_count": 77,
      "outputs": [
        {
          "output_type": "execute_result",
          "data": {
            "application/vnd.google.colaboratory.intrinsic+json": {
              "type": "string"
            },
            "text/plain": [
              "'ciência de dados'"
            ]
          },
          "metadata": {
            "tags": []
          },
          "execution_count": 77
        }
      ]
    },
    {
      "cell_type": "code",
      "metadata": {
        "colab": {
          "base_uri": "https://localhost:8080/"
        },
        "id": "sxYOVmb2XAfV",
        "outputId": "baa025bc-a8fd-40c3-c2af-452910ee1622"
      },
      "source": [
        "#DIVIDIR A STRING POR ESPAÇOS EM BRANCO (PADRÃO)\n",
        "s.split()"
      ],
      "execution_count": 78,
      "outputs": [
        {
          "output_type": "execute_result",
          "data": {
            "text/plain": [
              "['Ciência', 'de', 'Dados']"
            ]
          },
          "metadata": {
            "tags": []
          },
          "execution_count": 78
        }
      ]
    },
    {
      "cell_type": "code",
      "metadata": {
        "colab": {
          "base_uri": "https://localhost:8080/"
        },
        "id": "tFdY4ej1XAj0",
        "outputId": "7a095a2e-9c11-4b35-d029-a65843cb41fd"
      },
      "source": [
        "#DIVIDIR A STRING POR ALGUM ELEMENTO ESPECÍFICO\n",
        "s.split('de')"
      ],
      "execution_count": 82,
      "outputs": [
        {
          "output_type": "execute_result",
          "data": {
            "text/plain": [
              "['Ciência ', ' Dados']"
            ]
          },
          "metadata": {
            "tags": []
          },
          "execution_count": 82
        }
      ]
    },
    {
      "cell_type": "markdown",
      "metadata": {
        "id": "OM5cxuEeOxNQ"
      },
      "source": [
        "**FUNÇÕES STRINGS**"
      ]
    },
    {
      "cell_type": "code",
      "metadata": {
        "colab": {
          "base_uri": "https://localhost:8080/",
          "height": 35
        },
        "id": "OlxPJsbDXA2e",
        "outputId": "ac4baa60-a65b-4d08-8205-6cf8d2526e9a"
      },
      "source": [
        "s"
      ],
      "execution_count": 83,
      "outputs": [
        {
          "output_type": "execute_result",
          "data": {
            "application/vnd.google.colaboratory.intrinsic+json": {
              "type": "string"
            },
            "text/plain": [
              "'Ciência de Dados'"
            ]
          },
          "metadata": {
            "tags": []
          },
          "execution_count": 83
        }
      ]
    },
    {
      "cell_type": "code",
      "metadata": {
        "colab": {
          "base_uri": "https://localhost:8080/",
          "height": 35
        },
        "id": "RtFnsuarOspt",
        "outputId": "4bfacd73-34d2-4047-f546-5154f7c3839f"
      },
      "source": [
        "#APENAS A PRIMEIRA LETRA COMO MAIÚSCULA\n",
        "s.capitalize()"
      ],
      "execution_count": 84,
      "outputs": [
        {
          "output_type": "execute_result",
          "data": {
            "application/vnd.google.colaboratory.intrinsic+json": {
              "type": "string"
            },
            "text/plain": [
              "'Ciência de dados'"
            ]
          },
          "metadata": {
            "tags": []
          },
          "execution_count": 84
        }
      ]
    },
    {
      "cell_type": "code",
      "metadata": {
        "colab": {
          "base_uri": "https://localhost:8080/"
        },
        "id": "v5lbqLfeOssJ",
        "outputId": "7b701dac-e1a6-4d53-aae8-17440c269b3b"
      },
      "source": [
        "#FUNÇÃO COUNT PARA VERIFICAR QUANTAS VEZES A LETRA APARECE NA STRING\n",
        "s.count('i')"
      ],
      "execution_count": 86,
      "outputs": [
        {
          "output_type": "execute_result",
          "data": {
            "text/plain": [
              "2"
            ]
          },
          "metadata": {
            "tags": []
          },
          "execution_count": 86
        }
      ]
    },
    {
      "cell_type": "code",
      "metadata": {
        "colab": {
          "base_uri": "https://localhost:8080/"
        },
        "id": "doUkpDNZOst3",
        "outputId": "0dd9a61f-6e2c-4b85-d486-9f4c899b1e5e"
      },
      "source": [
        "#FUNÇÃO FIND PARA ENCONTRAR ENCONTRAR A POSIÇÃO DE UMA LETRA DENTRO DA STRING\n",
        "s.find('a')"
      ],
      "execution_count": 87,
      "outputs": [
        {
          "output_type": "execute_result",
          "data": {
            "text/plain": [
              "6"
            ]
          },
          "metadata": {
            "tags": []
          },
          "execution_count": 87
        }
      ]
    },
    {
      "cell_type": "code",
      "metadata": {
        "colab": {
          "base_uri": "https://localhost:8080/"
        },
        "id": "hdcr2OPKOsv0",
        "outputId": "79ce668d-4d36-4eda-aa7b-980a916a356a"
      },
      "source": [
        "#FUNÇÃO PARA VERIFICAR SE A STRING TEM VALOR MINÚSCULO\n",
        "s.islower()"
      ],
      "execution_count": 89,
      "outputs": [
        {
          "output_type": "execute_result",
          "data": {
            "text/plain": [
              "False"
            ]
          },
          "metadata": {
            "tags": []
          },
          "execution_count": 89
        }
      ]
    },
    {
      "cell_type": "code",
      "metadata": {
        "colab": {
          "base_uri": "https://localhost:8080/"
        },
        "id": "T-jybGTFOsxs",
        "outputId": "c9b50e13-3c93-4223-badf-55ac792515b6"
      },
      "source": [
        "#FUNÇÃO PARA VERIFICAR SE A STRING É VALOR ESPAÇO\n",
        "s.isspace()"
      ],
      "execution_count": 90,
      "outputs": [
        {
          "output_type": "execute_result",
          "data": {
            "text/plain": [
              "False"
            ]
          },
          "metadata": {
            "tags": []
          },
          "execution_count": 90
        }
      ]
    },
    {
      "cell_type": "code",
      "metadata": {
        "colab": {
          "base_uri": "https://localhost:8080/"
        },
        "id": "lyCnlIpKOs0o",
        "outputId": "98d90d22-23f0-4fe6-9edd-b9459164b4d9"
      },
      "source": [
        "#FUNÇÃO PARA VERIFICAR SE A STRING TERMINA COM DETERMINADA LETRA\n",
        "s.endswith('s')"
      ],
      "execution_count": 92,
      "outputs": [
        {
          "output_type": "execute_result",
          "data": {
            "text/plain": [
              "True"
            ]
          },
          "metadata": {
            "tags": []
          },
          "execution_count": 92
        }
      ]
    },
    {
      "cell_type": "markdown",
      "metadata": {
        "id": "s6VSM0cEsRM2"
      },
      "source": [
        "**COMPARANDO STRINGS**"
      ]
    },
    {
      "cell_type": "code",
      "metadata": {
        "colab": {
          "base_uri": "https://localhost:8080/"
        },
        "id": "sc8KialbOs7Z",
        "outputId": "63761803-dcab-4b89-f311-c2eb58071aee"
      },
      "source": [
        "print (\"Python\" == \"r\")"
      ],
      "execution_count": 3,
      "outputs": [
        {
          "output_type": "stream",
          "text": [
            "False\n"
          ],
          "name": "stdout"
        }
      ]
    },
    {
      "cell_type": "code",
      "metadata": {
        "colab": {
          "base_uri": "https://localhost:8080/"
        },
        "id": "_1OAfHsYOs_U",
        "outputId": "e60e18ba-0f42-4233-a58a-6249429199a0"
      },
      "source": [
        "print (\"Python\" == \"Python\")"
      ],
      "execution_count": 4,
      "outputs": [
        {
          "output_type": "stream",
          "text": [
            "True\n"
          ],
          "name": "stdout"
        }
      ]
    },
    {
      "cell_type": "markdown",
      "metadata": {
        "id": "FgAHpfYLt4Of"
      },
      "source": [
        "**ESTRUTURA DE DADOS-LISTAS**\n",
        "\n",
        "AS LISTAS SÃO CONSTRUÍDAS COM O USO DE [ ] E VÍRGULAS SEPARANDO CADA ELEMENTO:\n",
        "\n",
        "**LISTA[ITEM1, ITEM2, ITEM2]**"
      ]
    },
    {
      "cell_type": "code",
      "metadata": {
        "id": "DMv3kIINOtD1"
      },
      "source": [
        "#CRIANDO UMA LISTA\n",
        "listadomercado = [\"ovos, farinha, leite, achocolatado\"]"
      ],
      "execution_count": 8,
      "outputs": []
    },
    {
      "cell_type": "code",
      "metadata": {
        "colab": {
          "base_uri": "https://localhost:8080/"
        },
        "id": "sGTtjjsxOtGV",
        "outputId": "846ed1f5-b7d1-4e2d-8024-e19926301e8e"
      },
      "source": [
        "#IMPRIMINDO A LISTA\n",
        "print(listadomercado)"
      ],
      "execution_count": 9,
      "outputs": [
        {
          "output_type": "stream",
          "text": [
            "['ovos, farinha, leite, achocolatado']\n"
          ],
          "name": "stdout"
        }
      ]
    },
    {
      "cell_type": "code",
      "metadata": {
        "id": "M4AMCxCCOtIp"
      },
      "source": [
        "#CRIANDO UMA SEGUNDA LISTA\n",
        "listadomercado2 = [\"bacon\", \"batata\", \"refrigerante\", \"detox\"]"
      ],
      "execution_count": 10,
      "outputs": []
    },
    {
      "cell_type": "code",
      "metadata": {
        "colab": {
          "base_uri": "https://localhost:8080/"
        },
        "id": "jFQHi-I6OtK0",
        "outputId": "c90057ae-cee8-42db-acff-6654c560614c"
      },
      "source": [
        "#IMPRIMINDO A LISTA 2\n",
        "print(listadomercado2)"
      ],
      "execution_count": 11,
      "outputs": [
        {
          "output_type": "stream",
          "text": [
            "['bacon', 'batata', 'refrigerante', 'detox']\n"
          ],
          "name": "stdout"
        }
      ]
    },
    {
      "cell_type": "code",
      "metadata": {
        "colab": {
          "base_uri": "https://localhost:8080/",
          "height": 35
        },
        "id": "fLTsI0KKOtNz",
        "outputId": "7ea7f168-cdfc-428f-cffd-b59b800d2d9c"
      },
      "source": [
        "#EXTRAINDO O PRIMEIRO ELEMENTO DA LISTA 1\n",
        "listadomercado[0]"
      ],
      "execution_count": 13,
      "outputs": [
        {
          "output_type": "execute_result",
          "data": {
            "application/vnd.google.colaboratory.intrinsic+json": {
              "type": "string"
            },
            "text/plain": [
              "'ovos, farinha, leite, achocolatado'"
            ]
          },
          "metadata": {
            "tags": []
          },
          "execution_count": 13
        }
      ]
    },
    {
      "cell_type": "code",
      "metadata": {
        "colab": {
          "base_uri": "https://localhost:8080/",
          "height": 35
        },
        "id": "SjA6U_COOtQP",
        "outputId": "0cb18876-d867-428d-93f8-aa4a8395bea5"
      },
      "source": [
        "#EXTRAINDO O PRIMEIRO ELEMENTO DA LISTA 2\n",
        "listadomercado2[0]"
      ],
      "execution_count": 14,
      "outputs": [
        {
          "output_type": "execute_result",
          "data": {
            "application/vnd.google.colaboratory.intrinsic+json": {
              "type": "string"
            },
            "text/plain": [
              "'bacon'"
            ]
          },
          "metadata": {
            "tags": []
          },
          "execution_count": 14
        }
      ]
    },
    {
      "cell_type": "code",
      "metadata": {
        "id": "bxfPWC8vOtSw"
      },
      "source": [
        ""
      ],
      "execution_count": null,
      "outputs": []
    },
    {
      "cell_type": "code",
      "metadata": {
        "id": "r9pnVWdiOtWI"
      },
      "source": [
        ""
      ],
      "execution_count": null,
      "outputs": []
    },
    {
      "cell_type": "code",
      "metadata": {
        "id": "KivkH-EPOtZF"
      },
      "source": [
        ""
      ],
      "execution_count": null,
      "outputs": []
    },
    {
      "cell_type": "code",
      "metadata": {
        "id": "K0Djtl74Otba"
      },
      "source": [
        ""
      ],
      "execution_count": null,
      "outputs": []
    },
    {
      "cell_type": "code",
      "metadata": {
        "id": "2HaJhbpjOtdw"
      },
      "source": [
        ""
      ],
      "execution_count": null,
      "outputs": []
    },
    {
      "cell_type": "code",
      "metadata": {
        "id": "Ctoo3ByGOthN"
      },
      "source": [
        ""
      ],
      "execution_count": null,
      "outputs": []
    },
    {
      "cell_type": "code",
      "metadata": {
        "id": "eJlrQ7VZOtjW"
      },
      "source": [
        ""
      ],
      "execution_count": null,
      "outputs": []
    },
    {
      "cell_type": "code",
      "metadata": {
        "id": "zZs48D3EOtlq"
      },
      "source": [
        ""
      ],
      "execution_count": null,
      "outputs": []
    },
    {
      "cell_type": "code",
      "metadata": {
        "id": "xg9f8-KjOtob"
      },
      "source": [
        ""
      ],
      "execution_count": null,
      "outputs": []
    },
    {
      "cell_type": "code",
      "metadata": {
        "id": "NhfXHA5eOtqy"
      },
      "source": [
        ""
      ],
      "execution_count": null,
      "outputs": []
    },
    {
      "cell_type": "code",
      "metadata": {
        "id": "2a8M0S88Ott-"
      },
      "source": [
        ""
      ],
      "execution_count": null,
      "outputs": []
    },
    {
      "cell_type": "code",
      "metadata": {
        "id": "LRqIikxSXA4m"
      },
      "source": [
        ""
      ],
      "execution_count": null,
      "outputs": []
    },
    {
      "cell_type": "code",
      "metadata": {
        "id": "zSMayKxHXA6_"
      },
      "source": [
        ""
      ],
      "execution_count": null,
      "outputs": []
    },
    {
      "cell_type": "code",
      "metadata": {
        "id": "VoZz_4MYXA-p"
      },
      "source": [
        ""
      ],
      "execution_count": null,
      "outputs": []
    }
  ]
}