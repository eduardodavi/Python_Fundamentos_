{
  "nbformat": 4,
  "nbformat_minor": 0,
  "metadata": {
    "colab": {
      "name": "Untitled0.ipynb",
      "provenance": [],
      "collapsed_sections": [],
      "authorship_tag": "ABX9TyM/g3fEwixM6gZ5DLZNN2Nc",
      "include_colab_link": true
    },
    "kernelspec": {
      "name": "python3",
      "display_name": "Python 3"
    },
    "language_info": {
      "name": "python"
    }
  },
  "cells": [
    {
      "cell_type": "markdown",
      "metadata": {
        "id": "view-in-github",
        "colab_type": "text"
      },
      "source": [
        "<a href=\"https://colab.research.google.com/github/eduardodavi/Python_Fundamentos_/blob/main/Untitled0.ipynb\" target=\"_parent\"><img src=\"https://colab.research.google.com/assets/colab-badge.svg\" alt=\"Open In Colab\"/></a>"
      ]
    },
    {
      "cell_type": "code",
      "metadata": {
        "id": "V_eaz2W2W5_q"
      },
      "source": [
        ""
      ],
      "execution_count": null,
      "outputs": []
    },
    {
      "cell_type": "markdown",
      "metadata": {
        "id": "YvkVL2pNW_DL"
      },
      "source": [
        "**Python Fundamentos - Data Science Academy**"
      ]
    },
    {
      "cell_type": "markdown",
      "metadata": {
        "id": "pfeFd-DFX9-z"
      },
      "source": [
        "Variáveis e Operadores"
      ]
    },
    {
      "cell_type": "code",
      "metadata": {
        "id": "8DyIp2OZW_26"
      },
      "source": [
        "#ATRIBUINDO O VALOR 2 A UMA VARIÁVEL\n",
        "var_teste = 2"
      ],
      "execution_count": 2,
      "outputs": []
    },
    {
      "cell_type": "code",
      "metadata": {
        "colab": {
          "base_uri": "https://localhost:8080/"
        },
        "id": "49AN1S9zXAR1",
        "outputId": "3e08d6bb-e85a-4b40-c312-121c8f47f68a"
      },
      "source": [
        "#IMPRIMINDO O VALOR DA VARIÁVEL\n",
        "var_teste"
      ],
      "execution_count": 4,
      "outputs": [
        {
          "output_type": "execute_result",
          "data": {
            "text/plain": [
              "2"
            ]
          },
          "metadata": {
            "tags": []
          },
          "execution_count": 4
        }
      ]
    },
    {
      "cell_type": "code",
      "metadata": {
        "colab": {
          "base_uri": "https://localhost:8080/"
        },
        "id": "4Q18FMUYXATE",
        "outputId": "3e55c660-d79b-4b74-bcc8-fdd7768f2a69"
      },
      "source": [
        "#OUTRA FORMA DE IMPRIMIR\n",
        "print(var_teste)"
      ],
      "execution_count": 5,
      "outputs": [
        {
          "output_type": "stream",
          "text": [
            "2\n"
          ],
          "name": "stdout"
        }
      ]
    },
    {
      "cell_type": "code",
      "metadata": {
        "colab": {
          "base_uri": "https://localhost:8080/"
        },
        "id": "XHZhnZlxpFlU",
        "outputId": "ca19fcaa-5b60-48a7-f6a2-a8857d1d1274"
      },
      "source": [
        "#VERIFICANDO O TIPO DA VARIÁVEL\n",
        "type(var_teste)"
      ],
      "execution_count": 6,
      "outputs": [
        {
          "output_type": "execute_result",
          "data": {
            "text/plain": [
              "int"
            ]
          },
          "metadata": {
            "tags": []
          },
          "execution_count": 6
        }
      ]
    },
    {
      "cell_type": "code",
      "metadata": {
        "id": "jF1TELS2pFnn"
      },
      "source": [
        "#DEFININDO UMA VARIÁVEL TIPO FLOAR\n",
        "var_teste1 = 9.5"
      ],
      "execution_count": 7,
      "outputs": []
    },
    {
      "cell_type": "code",
      "metadata": {
        "colab": {
          "base_uri": "https://localhost:8080/"
        },
        "id": "nU6coWAjpFpZ",
        "outputId": "2c2ad56f-9b51-47d4-8ad5-ae1e9c8ae4ea"
      },
      "source": [
        "#VERIFICANDO O TIPO DA VARIÁVEL\n",
        "type(var_teste1)"
      ],
      "execution_count": 8,
      "outputs": [
        {
          "output_type": "execute_result",
          "data": {
            "text/plain": [
              "float"
            ]
          },
          "metadata": {
            "tags": []
          },
          "execution_count": 8
        }
      ]
    },
    {
      "cell_type": "markdown",
      "metadata": {
        "id": "a91TiUu4qsmC"
      },
      "source": [
        "**DECLARAÇÃO MULTIPLA**"
      ]
    },
    {
      "cell_type": "code",
      "metadata": {
        "id": "mP1KGmnApFtJ"
      },
      "source": [
        "pessoa1, pessoa2, pessoa3 = \"David\", \"Eduardo\", \"Marques\""
      ],
      "execution_count": 9,
      "outputs": []
    },
    {
      "cell_type": "code",
      "metadata": {
        "colab": {
          "base_uri": "https://localhost:8080/",
          "height": 35
        },
        "id": "qqM8eeEkpFvu",
        "outputId": "134bbbf2-3e5d-4a74-b38f-2d5af236c098"
      },
      "source": [
        "pessoa1"
      ],
      "execution_count": 10,
      "outputs": [
        {
          "output_type": "execute_result",
          "data": {
            "application/vnd.google.colaboratory.intrinsic+json": {
              "type": "string"
            },
            "text/plain": [
              "'David'"
            ]
          },
          "metadata": {
            "tags": []
          },
          "execution_count": 10
        }
      ]
    },
    {
      "cell_type": "code",
      "metadata": {
        "colab": {
          "base_uri": "https://localhost:8080/",
          "height": 35
        },
        "id": "5rWqaPkVpFxl",
        "outputId": "14d51055-d13d-478d-e5ba-0971570e05b6"
      },
      "source": [
        "pessoa2"
      ],
      "execution_count": 11,
      "outputs": [
        {
          "output_type": "execute_result",
          "data": {
            "application/vnd.google.colaboratory.intrinsic+json": {
              "type": "string"
            },
            "text/plain": [
              "'Eduardo'"
            ]
          },
          "metadata": {
            "tags": []
          },
          "execution_count": 11
        }
      ]
    },
    {
      "cell_type": "code",
      "metadata": {
        "colab": {
          "base_uri": "https://localhost:8080/",
          "height": 35
        },
        "id": "04d1MP_bpF0Q",
        "outputId": "cbaca63c-261f-40e4-ae91-7229e507608b"
      },
      "source": [
        "pessoa3"
      ],
      "execution_count": 12,
      "outputs": [
        {
          "output_type": "execute_result",
          "data": {
            "application/vnd.google.colaboratory.intrinsic+json": {
              "type": "string"
            },
            "text/plain": [
              "'Marques'"
            ]
          },
          "metadata": {
            "tags": []
          },
          "execution_count": 12
        }
      ]
    },
    {
      "cell_type": "code",
      "metadata": {
        "id": "Sc07Jef0pF2i"
      },
      "source": [
        "#DECLARAÇÃO MULTIPLA COM SINAL DE ATRIBUIÇÃO\n",
        "fruta1 = fruta2 = fruta3 = \"Laranja\""
      ],
      "execution_count": 13,
      "outputs": []
    },
    {
      "cell_type": "code",
      "metadata": {
        "colab": {
          "base_uri": "https://localhost:8080/",
          "height": 35
        },
        "id": "Mzu0cKEwpF5J",
        "outputId": "a95ed3eb-fcda-4d0a-8332-3f7d7a67397e"
      },
      "source": [
        "fruta1"
      ],
      "execution_count": 14,
      "outputs": [
        {
          "output_type": "execute_result",
          "data": {
            "application/vnd.google.colaboratory.intrinsic+json": {
              "type": "string"
            },
            "text/plain": [
              "'Laranja'"
            ]
          },
          "metadata": {
            "tags": []
          },
          "execution_count": 14
        }
      ]
    },
    {
      "cell_type": "code",
      "metadata": {
        "colab": {
          "base_uri": "https://localhost:8080/",
          "height": 35
        },
        "id": "ZXjnW92npF7i",
        "outputId": "4621dfc1-10dd-4f7c-9319-d3aedaedb428"
      },
      "source": [
        "fruta2"
      ],
      "execution_count": 15,
      "outputs": [
        {
          "output_type": "execute_result",
          "data": {
            "application/vnd.google.colaboratory.intrinsic+json": {
              "type": "string"
            },
            "text/plain": [
              "'Laranja'"
            ]
          },
          "metadata": {
            "tags": []
          },
          "execution_count": 15
        }
      ]
    },
    {
      "cell_type": "markdown",
      "metadata": {
        "id": "h0rxbmjBtNkS"
      },
      "source": [
        "NÃO SE PODE USAR PALAVRAS RESERVADAS COMO NOME DE VARIÁVEL\n",
        "\n",
        "False\n",
        "class\n",
        "finally\n",
        "is\n",
        "return\n",
        "none\n",
        "continue\n",
        "for \n",
        "lambda\n",
        "try\n",
        "True\n",
        "def\n",
        "from\n",
        "nonlocal\n",
        "while\n",
        "and\n",
        "del\n",
        "global\n",
        "not\n",
        "with\n",
        "as\n",
        "elif\n",
        "if\n",
        "or\n",
        "yield\n",
        "assert\n",
        "else\n",
        "import\n",
        "pass\n",
        "break\n",
        "except\n",
        "in\n",
        "raise"
      ]
    },
    {
      "cell_type": "markdown",
      "metadata": {
        "id": "6Kx3wqnoxVqh"
      },
      "source": [
        "**VARIÁVEIS ATRIBUÍDAS A OUTRAS VARIÁVEIS E ORDEM DOS OPERADORES**"
      ]
    },
    {
      "cell_type": "code",
      "metadata": {
        "id": "yK2GaQH-pF_r"
      },
      "source": [
        "largura = 2 "
      ],
      "execution_count": 16,
      "outputs": []
    },
    {
      "cell_type": "code",
      "metadata": {
        "id": "zdI_rZuHpGEW"
      },
      "source": [
        "altura = 5"
      ],
      "execution_count": 17,
      "outputs": []
    },
    {
      "cell_type": "code",
      "metadata": {
        "id": "A0IAnc-MpGKB"
      },
      "source": [
        "area = largura * altura"
      ],
      "execution_count": 18,
      "outputs": []
    },
    {
      "cell_type": "code",
      "metadata": {
        "colab": {
          "base_uri": "https://localhost:8080/"
        },
        "id": "ZGjoJh00pGLZ",
        "outputId": "7690c3b5-2e84-4502-c51e-e5e48ace3b13"
      },
      "source": [
        "area"
      ],
      "execution_count": 19,
      "outputs": [
        {
          "output_type": "execute_result",
          "data": {
            "text/plain": [
              "10"
            ]
          },
          "metadata": {
            "tags": []
          },
          "execution_count": 19
        }
      ]
    },
    {
      "cell_type": "code",
      "metadata": {
        "id": "b2enThn-pGM3"
      },
      "source": [
        "perimetro = 2 * largura + 2 * altura"
      ],
      "execution_count": 20,
      "outputs": []
    },
    {
      "cell_type": "code",
      "metadata": {
        "colab": {
          "base_uri": "https://localhost:8080/"
        },
        "id": "UXaVLmwOpGOe",
        "outputId": "1cc36794-883d-4160-dc26-2e92beff5f83"
      },
      "source": [
        "perimetro"
      ],
      "execution_count": 21,
      "outputs": [
        {
          "output_type": "execute_result",
          "data": {
            "text/plain": [
              "14"
            ]
          },
          "metadata": {
            "tags": []
          },
          "execution_count": 21
        }
      ]
    },
    {
      "cell_type": "code",
      "metadata": {
        "id": "zWD3kzblpGQl"
      },
      "source": [
        "#A ODEM DAS OPERAÇÕES DEVE SER A MESMA DA MATEMATICA\n",
        "perimetro = 2 * (largura + 2) * altura"
      ],
      "execution_count": 22,
      "outputs": []
    },
    {
      "cell_type": "code",
      "metadata": {
        "colab": {
          "base_uri": "https://localhost:8080/"
        },
        "id": "QcxgW4r7pGTg",
        "outputId": "ed9179d9-4004-436f-bbef-e27ff3a5a192"
      },
      "source": [
        "perimetro"
      ],
      "execution_count": 23,
      "outputs": [
        {
          "output_type": "execute_result",
          "data": {
            "text/plain": [
              "40"
            ]
          },
          "metadata": {
            "tags": []
          },
          "execution_count": 23
        }
      ]
    },
    {
      "cell_type": "markdown",
      "metadata": {
        "id": "2a_7PLmpy20h"
      },
      "source": [
        "**OPERAÇÕES COM VARIÁVEIS**"
      ]
    },
    {
      "cell_type": "code",
      "metadata": {
        "id": "y_4tUL-CpGVf"
      },
      "source": [
        "idade1 = 25"
      ],
      "execution_count": 24,
      "outputs": []
    },
    {
      "cell_type": "code",
      "metadata": {
        "id": "5R1KmLxLpGYX"
      },
      "source": [
        "idade2 = 40"
      ],
      "execution_count": 25,
      "outputs": []
    },
    {
      "cell_type": "code",
      "metadata": {
        "colab": {
          "base_uri": "https://localhost:8080/"
        },
        "id": "PNqz2hY2pGba",
        "outputId": "8a243d0e-fdaf-421c-9283-7cb442405546"
      },
      "source": [
        "idade1 + idade2"
      ],
      "execution_count": 26,
      "outputs": [
        {
          "output_type": "execute_result",
          "data": {
            "text/plain": [
              "65"
            ]
          },
          "metadata": {
            "tags": []
          },
          "execution_count": 26
        }
      ]
    },
    {
      "cell_type": "code",
      "metadata": {
        "colab": {
          "base_uri": "https://localhost:8080/"
        },
        "id": "eZOkTuZopGfG",
        "outputId": "671f9eaf-14e3-4616-8f1b-b3d9190bb1ca"
      },
      "source": [
        "idade1 - idade2"
      ],
      "execution_count": 27,
      "outputs": [
        {
          "output_type": "execute_result",
          "data": {
            "text/plain": [
              "-15"
            ]
          },
          "metadata": {
            "tags": []
          },
          "execution_count": 27
        }
      ]
    },
    {
      "cell_type": "code",
      "metadata": {
        "colab": {
          "base_uri": "https://localhost:8080/"
        },
        "id": "kdS3XyK8pGg9",
        "outputId": "e29d6c48-97e3-4597-d080-d4f426dae24e"
      },
      "source": [
        "idade1 * idade2"
      ],
      "execution_count": 28,
      "outputs": [
        {
          "output_type": "execute_result",
          "data": {
            "text/plain": [
              "1000"
            ]
          },
          "metadata": {
            "tags": []
          },
          "execution_count": 28
        }
      ]
    },
    {
      "cell_type": "code",
      "metadata": {
        "colab": {
          "base_uri": "https://localhost:8080/"
        },
        "id": "iB7iQGGh0XZ4",
        "outputId": "bbeaff29-b305-4945-e804-911a4c461440"
      },
      "source": [
        "idade1 / idade2"
      ],
      "execution_count": 33,
      "outputs": [
        {
          "output_type": "execute_result",
          "data": {
            "text/plain": [
              "0.625"
            ]
          },
          "metadata": {
            "tags": []
          },
          "execution_count": 33
        }
      ]
    },
    {
      "cell_type": "code",
      "metadata": {
        "colab": {
          "base_uri": "https://localhost:8080/"
        },
        "id": "hLr50WDj0Xpd",
        "outputId": "5f156ca1-c294-44e5-c549-60bea46bb7ce"
      },
      "source": [
        "idade1 % idade2"
      ],
      "execution_count": 34,
      "outputs": [
        {
          "output_type": "execute_result",
          "data": {
            "text/plain": [
              "25"
            ]
          },
          "metadata": {
            "tags": []
          },
          "execution_count": 34
        }
      ]
    },
    {
      "cell_type": "markdown",
      "metadata": {
        "id": "e2vgKdizz2GM"
      },
      "source": [
        "**CONCATENAÇÃO DAS VARIÁVEIS**"
      ]
    },
    {
      "cell_type": "code",
      "metadata": {
        "id": "LSiat9ZUpGjz"
      },
      "source": [
        "nome = \"David\""
      ],
      "execution_count": 29,
      "outputs": []
    },
    {
      "cell_type": "code",
      "metadata": {
        "id": "q5gBzZNFpGnL"
      },
      "source": [
        "sobrenome = \"Marques\""
      ],
      "execution_count": 30,
      "outputs": []
    },
    {
      "cell_type": "code",
      "metadata": {
        "id": "xHFDBvInpGpv"
      },
      "source": [
        "fullname = nome + \" \" + sobrenome"
      ],
      "execution_count": 31,
      "outputs": []
    },
    {
      "cell_type": "code",
      "metadata": {
        "colab": {
          "base_uri": "https://localhost:8080/",
          "height": 35
        },
        "id": "91_KqkwrpGtO",
        "outputId": "04e6e1b6-ae80-43a4-ffb4-9ccaaf64e064"
      },
      "source": [
        "fullname"
      ],
      "execution_count": 32,
      "outputs": [
        {
          "output_type": "execute_result",
          "data": {
            "application/vnd.google.colaboratory.intrinsic+json": {
              "type": "string"
            },
            "text/plain": [
              "'David Marques'"
            ]
          },
          "metadata": {
            "tags": []
          },
          "execution_count": 32
        }
      ]
    },
    {
      "cell_type": "code",
      "metadata": {
        "id": "DHiGHh5wpGwI"
      },
      "source": [
        ""
      ],
      "execution_count": null,
      "outputs": []
    },
    {
      "cell_type": "code",
      "metadata": {
        "id": "ZLfZ3zbepQw6"
      },
      "source": [
        ""
      ],
      "execution_count": null,
      "outputs": []
    },
    {
      "cell_type": "code",
      "metadata": {
        "id": "jVb72Fg0pQye"
      },
      "source": [
        ""
      ],
      "execution_count": null,
      "outputs": []
    },
    {
      "cell_type": "code",
      "metadata": {
        "id": "lB6a2RkRpQ1r"
      },
      "source": [
        ""
      ],
      "execution_count": null,
      "outputs": []
    },
    {
      "cell_type": "code",
      "metadata": {
        "id": "hbN356lEpQ5E"
      },
      "source": [
        ""
      ],
      "execution_count": null,
      "outputs": []
    },
    {
      "cell_type": "code",
      "metadata": {
        "id": "mA4yIlJnpQ78"
      },
      "source": [
        ""
      ],
      "execution_count": null,
      "outputs": []
    },
    {
      "cell_type": "code",
      "metadata": {
        "id": "00eMxGmppRDK"
      },
      "source": [
        ""
      ],
      "execution_count": null,
      "outputs": []
    },
    {
      "cell_type": "code",
      "metadata": {
        "id": "aZ7boS21XAVt"
      },
      "source": [
        ""
      ],
      "execution_count": null,
      "outputs": []
    },
    {
      "cell_type": "code",
      "metadata": {
        "id": "jIc7FpmlXAYG"
      },
      "source": [
        ""
      ],
      "execution_count": null,
      "outputs": []
    },
    {
      "cell_type": "code",
      "metadata": {
        "id": "r44CAJK8XAa8"
      },
      "source": [
        ""
      ],
      "execution_count": null,
      "outputs": []
    },
    {
      "cell_type": "code",
      "metadata": {
        "id": "suiGfnC1XAcv"
      },
      "source": [
        ""
      ],
      "execution_count": null,
      "outputs": []
    },
    {
      "cell_type": "code",
      "metadata": {
        "id": "sxYOVmb2XAfV"
      },
      "source": [
        ""
      ],
      "execution_count": null,
      "outputs": []
    },
    {
      "cell_type": "code",
      "metadata": {
        "id": "tFdY4ej1XAj0"
      },
      "source": [
        ""
      ],
      "execution_count": null,
      "outputs": []
    },
    {
      "cell_type": "code",
      "metadata": {
        "id": "OlxPJsbDXA2e"
      },
      "source": [
        ""
      ],
      "execution_count": null,
      "outputs": []
    },
    {
      "cell_type": "code",
      "metadata": {
        "id": "LRqIikxSXA4m"
      },
      "source": [
        ""
      ],
      "execution_count": null,
      "outputs": []
    },
    {
      "cell_type": "code",
      "metadata": {
        "id": "zSMayKxHXA6_"
      },
      "source": [
        ""
      ],
      "execution_count": null,
      "outputs": []
    },
    {
      "cell_type": "code",
      "metadata": {
        "id": "VoZz_4MYXA-p"
      },
      "source": [
        ""
      ],
      "execution_count": null,
      "outputs": []
    }
  ]
}